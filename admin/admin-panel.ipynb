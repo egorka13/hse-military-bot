{
 "cells": [
  {
   "cell_type": "markdown",
   "metadata": {},
   "source": [
    "## Setup the environment"
   ]
  },
  {
   "cell_type": "code",
   "execution_count": 17,
   "metadata": {
    "scrolled": true
   },
   "outputs": [
    {
     "name": "stdout",
     "output_type": "stream",
     "text": [
      "Requirement already satisfied: python-dotenv in /usr/local/lib/python3.7/site-packages (0.13.0)\n",
      "Requirement already satisfied: tqdm in /usr/local/lib/python3.7/site-packages (4.45.0)\n",
      "Requirement already satisfied: firebase-admin in /usr/local/lib/python3.7/site-packages (4.1.0)\n",
      "Requirement already satisfied: asyncio in /usr/local/lib/python3.7/site-packages (3.4.3)\n",
      "Requirement already satisfied: nest_asyncio in /usr/local/lib/python3.7/site-packages (1.3.2)\n",
      "Requirement already satisfied: aiohttp in /usr/local/lib/python3.7/site-packages (3.6.2)\n",
      "Requirement already satisfied: pandas in /usr/local/lib/python3.7/site-packages (1.0.3)\n",
      "Requirement already satisfied: numpy in /usr/local/lib/python3.7/site-packages (1.17.4)\n",
      "Requirement already satisfied: matplotlib in /usr/local/lib/python3.7/site-packages (3.2.1)\n",
      "Collecting pydrive\n",
      "  Downloading PyDrive-1.3.1.tar.gz (987 kB)\n",
      "\u001b[K     |████████████████████████████████| 987 kB 613 kB/s eta 0:00:01\n",
      "\u001b[?25hRequirement already satisfied: google-api-python-client>=1.7.8 in /usr/local/lib/python3.7/site-packages (from firebase-admin) (1.8.2)\n",
      "Requirement already satisfied: google-cloud-firestore>=1.4.0; platform_python_implementation != \"PyPy\" in /usr/local/lib/python3.7/site-packages (from firebase-admin) (1.6.2)\n",
      "Requirement already satisfied: google-cloud-storage>=1.18.0 in /usr/local/lib/python3.7/site-packages (from firebase-admin) (1.28.0)\n",
      "Requirement already satisfied: cachecontrol>=0.12.6 in /usr/local/lib/python3.7/site-packages (from firebase-admin) (0.12.6)\n",
      "Requirement already satisfied: google-api-core[grpc]<2.0.0dev,>=1.14.0; platform_python_implementation != \"PyPy\" in /usr/local/lib/python3.7/site-packages (from firebase-admin) (1.17.0)\n",
      "Requirement already satisfied: multidict<5.0,>=4.5 in /usr/local/lib/python3.7/site-packages (from aiohttp) (4.7.5)\n",
      "Requirement already satisfied: attrs>=17.3.0 in /usr/local/lib/python3.7/site-packages (from aiohttp) (19.3.0)\n",
      "Requirement already satisfied: async-timeout<4.0,>=3.0 in /usr/local/lib/python3.7/site-packages (from aiohttp) (3.0.1)\n",
      "Requirement already satisfied: chardet<4.0,>=2.0 in /Users/mvshmakovmv/Library/Python/3.7/lib/python/site-packages (from aiohttp) (3.0.4)\n",
      "Requirement already satisfied: yarl<2.0,>=1.0 in /usr/local/lib/python3.7/site-packages (from aiohttp) (1.4.2)\n",
      "Requirement already satisfied: python-dateutil>=2.6.1 in /usr/local/lib/python3.7/site-packages (from pandas) (2.8.1)\n",
      "Requirement already satisfied: pytz>=2017.2 in /usr/local/lib/python3.7/site-packages (from pandas) (2020.1)\n",
      "Requirement already satisfied: pyparsing!=2.0.4,!=2.1.2,!=2.1.6,>=2.0.1 in /usr/local/lib/python3.7/site-packages (from matplotlib) (2.4.7)\n",
      "Requirement already satisfied: kiwisolver>=1.0.1 in /usr/local/lib/python3.7/site-packages (from matplotlib) (1.2.0)\n",
      "Requirement already satisfied: cycler>=0.10 in /usr/local/lib/python3.7/site-packages (from matplotlib) (0.10.0)\n",
      "Collecting oauth2client>=4.0.0\n",
      "  Downloading oauth2client-4.1.3-py2.py3-none-any.whl (98 kB)\n",
      "\u001b[K     |████████████████████████████████| 98 kB 1.9 MB/s eta 0:00:01\n",
      "\u001b[?25hCollecting PyYAML>=3.0\n",
      "  Downloading PyYAML-5.3.1.tar.gz (269 kB)\n",
      "\u001b[K     |████████████████████████████████| 269 kB 1.8 MB/s eta 0:00:01\n",
      "\u001b[?25hRequirement already satisfied: six<2dev,>=1.6.1 in /usr/local/Cellar/protobuf/3.11.4/libexec/lib/python3.7/site-packages (from google-api-python-client>=1.7.8->firebase-admin) (1.14.0)\n",
      "Requirement already satisfied: google-auth>=1.4.1 in /usr/local/lib/python3.7/site-packages (from google-api-python-client>=1.7.8->firebase-admin) (1.14.1)\n",
      "Requirement already satisfied: uritemplate<4dev,>=3.0.0 in /usr/local/lib/python3.7/site-packages (from google-api-python-client>=1.7.8->firebase-admin) (3.0.1)\n",
      "Requirement already satisfied: google-auth-httplib2>=0.0.3 in /usr/local/lib/python3.7/site-packages (from google-api-python-client>=1.7.8->firebase-admin) (0.0.3)\n",
      "Requirement already satisfied: httplib2<1dev,>=0.9.2 in /usr/local/lib/python3.7/site-packages (from google-api-python-client>=1.7.8->firebase-admin) (0.17.3)\n",
      "Requirement already satisfied: google-cloud-core<2.0dev,>=1.0.3 in /usr/local/lib/python3.7/site-packages (from google-cloud-firestore>=1.4.0; platform_python_implementation != \"PyPy\"->firebase-admin) (1.3.0)\n",
      "Requirement already satisfied: google-resumable-media<0.6dev,>=0.5.0 in /usr/local/lib/python3.7/site-packages (from google-cloud-storage>=1.18.0->firebase-admin) (0.5.0)\n",
      "Requirement already satisfied: requests in /Users/mvshmakovmv/Library/Python/3.7/lib/python/site-packages (from cachecontrol>=0.12.6->firebase-admin) (2.23.0)\n",
      "Requirement already satisfied: msgpack>=0.5.2 in /usr/local/lib/python3.7/site-packages (from cachecontrol>=0.12.6->firebase-admin) (1.0.0)\n",
      "Requirement already satisfied: googleapis-common-protos<2.0dev,>=1.6.0 in /usr/local/lib/python3.7/site-packages (from google-api-core[grpc]<2.0.0dev,>=1.14.0; platform_python_implementation != \"PyPy\"->firebase-admin) (1.51.0)\n",
      "Requirement already satisfied: protobuf>=3.4.0 in /usr/local/Cellar/protobuf/3.11.4/libexec/lib/python3.7/site-packages (from google-api-core[grpc]<2.0.0dev,>=1.14.0; platform_python_implementation != \"PyPy\"->firebase-admin) (3.11.4)\n",
      "Requirement already satisfied: setuptools>=34.0.0 in /usr/local/lib/python3.7/site-packages (from google-api-core[grpc]<2.0.0dev,>=1.14.0; platform_python_implementation != \"PyPy\"->firebase-admin) (46.0.0)\n",
      "Requirement already satisfied: grpcio<2.0dev,>=1.8.2; extra == \"grpc\" in /usr/local/lib/python3.7/site-packages (from google-api-core[grpc]<2.0.0dev,>=1.14.0; platform_python_implementation != \"PyPy\"->firebase-admin) (1.28.1)\n",
      "Requirement already satisfied: idna>=2.0 in /Users/mvshmakovmv/Library/Python/3.7/lib/python/site-packages (from yarl<2.0,>=1.0->aiohttp) (2.9)\n",
      "Requirement already satisfied: pyasn1>=0.1.7 in /usr/local/lib/python3.7/site-packages (from oauth2client>=4.0.0->pydrive) (0.4.8)\n",
      "Requirement already satisfied: pyasn1-modules>=0.0.5 in /usr/local/lib/python3.7/site-packages (from oauth2client>=4.0.0->pydrive) (0.2.8)\n",
      "Requirement already satisfied: rsa>=3.1.4 in /usr/local/lib/python3.7/site-packages (from oauth2client>=4.0.0->pydrive) (4.0)\n",
      "Requirement already satisfied: cachetools<5.0,>=2.0.0 in /usr/local/lib/python3.7/site-packages (from google-auth>=1.4.1->google-api-python-client>=1.7.8->firebase-admin) (4.1.0)\n",
      "Requirement already satisfied: urllib3!=1.25.0,!=1.25.1,<1.26,>=1.21.1 in /Users/mvshmakovmv/Library/Python/3.7/lib/python/site-packages (from requests->cachecontrol>=0.12.6->firebase-admin) (1.25.8)\n",
      "Requirement already satisfied: certifi>=2017.4.17 in /Users/mvshmakovmv/Library/Python/3.7/lib/python/site-packages (from requests->cachecontrol>=0.12.6->firebase-admin) (2019.11.28)\n",
      "Building wheels for collected packages: pydrive, PyYAML\n",
      "  Building wheel for pydrive (setup.py) ... \u001b[?25ldone\n",
      "\u001b[?25h  Created wheel for pydrive: filename=PyDrive-1.3.1-py3-none-any.whl size=27435 sha256=0d14a68e0417b3681fddfbbf2221b2af515e3bf60a06e4ce87626fd41896769b\n",
      "  Stored in directory: /Users/mvshmakovmv/Library/Caches/pip/wheels/57/cc/07/6aac75f5395a224650905accd38c868c2276782a56f1046b7b\n",
      "  Building wheel for PyYAML (setup.py) ... \u001b[?25ldone\n",
      "\u001b[?25h  Created wheel for PyYAML: filename=PyYAML-5.3.1-cp37-cp37m-macosx_10_15_x86_64.whl size=153152 sha256=76ed8591d93d9b8642e69e49c9733aca4e4df451ef9ac12783e55f83302e0299\n",
      "  Stored in directory: /Users/mvshmakovmv/Library/Caches/pip/wheels/5e/03/1e/e1e954795d6f35dfc7b637fe2277bff021303bd9570ecea653\n",
      "Successfully built pydrive PyYAML\n",
      "Installing collected packages: oauth2client, PyYAML, pydrive\n",
      "Successfully installed PyYAML-5.3.1 oauth2client-4.1.3 pydrive-1.3.1\n"
     ]
    }
   ],
   "source": [
    "import sys\n",
    "!{sys.executable} -m pip install python-dotenv tqdm firebase-admin asyncio nest_asyncio aiohttp pandas numpy matplotlib pydrive"
   ]
  },
  {
   "cell_type": "markdown",
   "metadata": {},
   "source": [
    "## Load .env configuration"
   ]
  },
  {
   "cell_type": "markdown",
   "metadata": {},
   "source": [
    "Supposing that we have .env in parent folder"
   ]
  },
  {
   "cell_type": "code",
   "execution_count": 2,
   "metadata": {},
   "outputs": [],
   "source": [
    "%reload_ext dotenv\n",
    "%dotenv\n",
    "\n",
    "from dotenv import dotenv_values\n",
    "ENV = dotenv_values()"
   ]
  },
  {
   "cell_type": "markdown",
   "metadata": {},
   "source": [
    "## Users DB initialization and queries"
   ]
  },
  {
   "cell_type": "code",
   "execution_count": 3,
   "metadata": {},
   "outputs": [],
   "source": [
    "import firebase_admin\n",
    "\n",
    "from firebase_admin import db\n",
    "from firebase_admin import credentials"
   ]
  },
  {
   "cell_type": "code",
   "execution_count": 4,
   "metadata": {},
   "outputs": [],
   "source": [
    "class Database():\n",
    "    def __init__(self):\n",
    "        # Fetch the service account key JSON file contents\n",
    "        creds = credentials.Certificate({\n",
    "            'type': 'service_account',\n",
    "            \"token_uri\": \"https://accounts.google.com/o/oauth2/token\",\n",
    "\n",
    "            'project_id': ENV['FIREBASE_USERS_PROJECT_ID'],\n",
    "            'client_email': ENV['FIREBASE_USERS_CLIENT_EMAIL'],\n",
    "            'private_key': ENV['FIREBASE_USERS_PRIVATE_KEY'].replace('\\\\n', '\\n'),\n",
    "        })\n",
    "\n",
    "        # Initialize the app with a service account, granting admin privileges\n",
    "        firebase_admin.initialize_app(creds, {\n",
    "            'databaseURL': ENV['FIREBASE_USERS_URL']\n",
    "        })\n",
    "        \n",
    "        # As an admin, the app has access to read and write all data, regradless of Security Rules\n",
    "        self.users_db = db.reference('users/').get()\n",
    "\n",
    "    def get_all_chat_ids(self, debug=False):\n",
    "        if debug:\n",
    "            return [*list(self.users_db.keys())[1:5], 108431546, 120248031]\n",
    "        return list(self.users_db.keys())\n",
    "\n",
    "    def get_users_as_list(self, debug=False):\n",
    "        if debug:\n",
    "            return [*list(self.users_db.values())[1:5]]\n",
    "        return list(self.users_db.values())"
   ]
  },
  {
   "cell_type": "code",
   "execution_count": 5,
   "metadata": {},
   "outputs": [],
   "source": [
    "database = Database()"
   ]
  },
  {
   "cell_type": "markdown",
   "metadata": {},
   "source": [
    "## DB analytics"
   ]
  },
  {
   "cell_type": "code",
   "execution_count": 6,
   "metadata": {},
   "outputs": [
    {
     "name": "stderr",
     "output_type": "stream",
     "text": [
      "/usr/local/lib/python3.7/site-packages/pandas/compat/__init__.py:117: UserWarning: Could not import the lzma module. Your installed Python is incomplete. Attempting to use lzma compression will result in a RuntimeError.\n",
      "  warnings.warn(msg)\n"
     ]
    }
   ],
   "source": [
    "import numpy as np\n",
    "import pandas as pd\n",
    "import matplotlib.pyplot as plt\n",
    "\n",
    "from numbers import Number\n",
    "from functools import reduce"
   ]
  },
  {
   "cell_type": "code",
   "execution_count": 7,
   "metadata": {},
   "outputs": [],
   "source": [
    "def users_with_data_stats():\n",
    "    def remove_without_debug(lst, user):\n",
    "        if 'debug' in user:\n",
    "            lst.append(user['debug']['user'])\n",
    "        return lst\n",
    "\n",
    "    objects = ('Have', 'Don\\'t have')\n",
    "    y_pos = np.arange(len(objects))\n",
    "\n",
    "    users = database.get_users_as_list()\n",
    "    with_debug = reduce(remove_without_debug, users, [])\n",
    "\n",
    "    x_pos = [\n",
    "        len(with_debug),\n",
    "        len(users) - len(with_debug)\n",
    "    ]\n",
    "\n",
    "    plt.bar(y_pos[0], x_pos[0], color='blue', align='center')\n",
    "    plt.bar(y_pos[1], x_pos[1], color='red', align='center')\n",
    "\n",
    "    plt.ylabel('Number of users')\n",
    "    plt.xticks(y_pos, objects)\n",
    "    plt.yticks(x_pos)\n",
    "    plt.title('Number of users that have debug info')\n",
    "\n",
    "    plt.show()\n",
    "\n",
    "    chat_ids_with_debug = list(map(\n",
    "        lambda user: f\"{user['id']} ({user['username']})\" if 'username' in user else f\"{user['id']} ({user['first_name']})\",\n",
    "        with_debug))\n",
    "\n",
    "    if len(chat_ids_with_debug) > 0 :\n",
    "        print(f\"Chat_ids with debug: {', '.join(chat_ids_with_debug)}\")"
   ]
  },
  {
   "cell_type": "code",
   "execution_count": 8,
   "metadata": {
    "scrolled": true
   },
   "outputs": [
    {
     "data": {
      "image/png": "[encoded data removed]",
      "text/plain": [
       "<Figure size 432x288 with 1 Axes>"
      ]
     },
     "metadata": {
      "needs_background": "light"
     },
     "output_type": "display_data"
    },
    {
     "name": "stdout",
     "output_type": "stream",
     "text": [
      "Chat_ids with debug: 80713059 (Barin_Ildar), 94552162 (egorka1397), 108431546 (mvshmakov), 120248031 (le_bourbier), 128855625 (JustDoItTim), 183082518 (DLDLU), 257765200 (xdownshiftx), 259600937 (pvsemk), 313741256 (Alexander), 335299756 (vvmosmvoretskiy), 339755055 (AHTOH4EK), 372861455 (Sde_or), 440708994 (spacedog46471), 1151088630 (Lizzztvv)\n"
     ]
    }
   ],
   "source": [
    "users_with_data_stats()"
   ]
  },
  {
   "cell_type": "markdown",
   "metadata": {},
   "source": [
    "## Sending messages"
   ]
  },
  {
   "cell_type": "code",
   "execution_count": 9,
   "metadata": {},
   "outputs": [],
   "source": [
    "import json\n",
    "import aiohttp\n",
    "import asyncio\n",
    "from tqdm.notebook import tqdm"
   ]
  },
  {
   "cell_type": "code",
   "execution_count": 10,
   "metadata": {},
   "outputs": [],
   "source": [
    "# Fix for ipython event loop\n",
    "import nest_asyncio\n",
    "nest_asyncio.apply()"
   ]
  },
  {
   "cell_type": "code",
   "execution_count": 11,
   "metadata": {},
   "outputs": [],
   "source": [
    "class MessageSender():\n",
    "    headers = {'content-type': 'application/json'}\n",
    "    stats = {}\n",
    "\n",
    "    def __init__(self, bot_token=ENV[\"BOT_TOKEN\"]):\n",
    "        self.url = f'https://api.telegram.org/bot{bot_token}/sendMessage'\n",
    "\n",
    "    def show_stats(self):\n",
    "        response = self.stats['response']\n",
    "        if (response['ok'] != True):\n",
    "            print(f\"{response['description']}. Try again.\")\n",
    "        else:\n",
    "            chat = response['result']['chat']\n",
    "            if 'username' in chat:\n",
    "                print(f\"Message \\'{response['result']['text']}\\' sent to {chat['username']} ({chat['first_name']} {chat['last_name']})\")\n",
    "            else:\n",
    "                print(f\"Message \\'{response['result']['text']}\\' sent to ({chat['first_name']})\")\n",
    "            print(f\"At: {self.stats['date']}, Chat ID: {chat['id']}\")\n",
    "\n",
    "    def send_msg_to_chat(self, chat_id, text):\n",
    "        loop = asyncio.get_event_loop()\n",
    "\n",
    "        async def send_msg_to_chat_async():\n",
    "            async with aiohttp.ClientSession() as session:\n",
    "                self.stats = await self.send_msg_to_chat_async(session, chat_id, text)\n",
    "\n",
    "        loop.run_until_complete(send_msg_to_chat_async())\n",
    "\n",
    "    async def send_msg_to_chat_async(self, session, chat_id, text):\n",
    "        payload = json.dumps({\n",
    "            'chat_id': chat_id,\n",
    "            'text': text\n",
    "        })\n",
    "\n",
    "        async with session.post(self.url, data=payload, headers=self.headers) as response:\n",
    "            text = await response.text()\n",
    "\n",
    "            return {\n",
    "                'date': response.headers.get(\"DATE\"),\n",
    "                'response': json.loads(text),\n",
    "            }"
   ]
  },
  {
   "cell_type": "code",
   "execution_count": 12,
   "metadata": {},
   "outputs": [],
   "source": [
    "MAX_PARALLEL = 500\n",
    "\n",
    "class MultipleMessagesSender(MessageSender):\n",
    "    stats = []\n",
    "    \n",
    "    def stat_count_with_error(self, counter, user):\n",
    "        if user['response']['ok'] == True:\n",
    "            return counter\n",
    "        return counter + 1\n",
    "\n",
    "    def show_errors_rate(self):\n",
    "        objects = ('Succeded', 'Errored')\n",
    "        y_pos = np.arange(len(objects))\n",
    "\n",
    "        with_error = reduce(self.stat_count_with_error, self.stats, 0)\n",
    "\n",
    "        x_pos = [\n",
    "            len(self.stats) - with_error,\n",
    "            with_error,\n",
    "        ]\n",
    "\n",
    "        plt.bar(y_pos[0], x_pos[0], color='blue', align='center')\n",
    "        plt.bar(y_pos[1], x_pos[1], color='red', align='center')\n",
    "\n",
    "        plt.ylabel('Number of requests')\n",
    "        plt.yticks(x_pos)\n",
    "        plt.xticks(y_pos, objects)\n",
    "        plt.title('Number of succesful requests and errors')\n",
    "\n",
    "        plt.show()\n",
    "\n",
    "    def show_errors(self):\n",
    "        if reduce(self.stat_count_with_error, self.stats, 0) == 0:\n",
    "            print('No errors!')\n",
    "        else:\n",
    "            def make_errors_map(errs, stat):\n",
    "                if 'response' not in stat or 'description' not in stat['response']:\n",
    "                    return errs\n",
    "                description = stat['response']['description']\n",
    "                if description in errs:\n",
    "                    errs[description] += 1\n",
    "                else:\n",
    "                    errs[description] = 1\n",
    "                return errs\n",
    "\n",
    "            errors = reduce(make_errors_map, self.stats, {})\n",
    "\n",
    "            x_pos = list(errors.values())\n",
    "            y_pos = list(errors.keys())\n",
    "            plt.bar(y_pos, x_pos, color='red', align='center')\n",
    "\n",
    "            plt.ylabel('Number of errors')\n",
    "            plt.yticks(x_pos)\n",
    "            plt.xticks(y_pos, rotation=45)\n",
    "            plt.title('Errors by description')\n",
    "\n",
    "            plt.show()\n",
    "            \n",
    "    def show_problem_ids(self):\n",
    "        if reduce(self.stat_count_with_error, self.stats, 0) == 0:\n",
    "            pass\n",
    "        else:\n",
    "            def get_problem_ids(ids, stat):\n",
    "                if 'description' not in stat['response']:\n",
    "                    return ids\n",
    "\n",
    "                chat_id = stat['chat_id']\n",
    "                if chat_id in ids:\n",
    "                    return ids\n",
    "                else:\n",
    "                    ids.append(chat_id)\n",
    "                    return ids\n",
    "            print(f\"Problematic chat_ids: {', '.join(map(str, reduce(get_problem_ids, self.stats, [])))}\")\n",
    "\n",
    "    def show_stats(self):\n",
    "        self.show_errors_rate()\n",
    "        self.show_errors()\n",
    "        self.show_problem_ids()\n",
    "\n",
    "    def send_msg_to_everyone(self, text, parallel=MAX_PARALLEL):\n",
    "        loop = asyncio.get_event_loop()\n",
    "        future = asyncio.ensure_future(self.send_msg_to_everyone_async(text, parallel))\n",
    "        loop.run_until_complete(future)\n",
    "\n",
    "    async def bound_requests(self, session, semaphore, chat_id, text):\n",
    "        # Getter function with semaphore.\n",
    "        async with semaphore:\n",
    "            return await self.send_msg_to_chat_async(session, chat_id, text)\n",
    "\n",
    "    async def send_msg_to_everyone_async(self, text, debug=False, parallel=MAX_PARALLEL):\n",
    "        tasks = []\n",
    "        chat_ids = database.get_all_chat_ids(debug)\n",
    "        semaphore = asyncio.Semaphore(parallel)\n",
    "\n",
    "        # Create client session that will ensure we dont open new connection per each request.\n",
    "        async with aiohttp.ClientSession() as session:\n",
    "            for chat_id in chat_ids:\n",
    "                task = asyncio.ensure_future(\n",
    "                    self.bound_requests(session, semaphore, chat_id, text))\n",
    "                tasks.append(task)\n",
    "\n",
    "            for task in tqdm(asyncio.as_completed(tasks), total=len(tasks)):\n",
    "                await task\n",
    "\n",
    "            results = await asyncio.gather(*tasks)\n",
    "            \n",
    "            def merge_stat_with_chat_id(accumulator, stat):\n",
    "                stat[0]['chat_id'] = stat[1]\n",
    "                accumulator.append(stat[0])\n",
    "                return accumulator\n",
    "                \n",
    "            self.stats = list(reduce(merge_stat_with_chat_id, zip(results, chat_ids), []))"
   ]
  },
  {
   "cell_type": "code",
   "execution_count": 21,
   "metadata": {},
   "outputs": [],
   "source": [
    "text = 'Привет, это новый бот!!'\n",
    "chat_id = 108431546"
   ]
  },
  {
   "cell_type": "code",
   "execution_count": 22,
   "metadata": {
    "scrolled": true
   },
   "outputs": [
    {
     "name": "stdout",
     "output_type": "stream",
     "text": [
      "Message 'Привет, это новый бот!!' sent to mvshmakov (Maxim Shmakov)\n",
      "At: Fri, 01 May 2020 18:32:23 GMT, Chat ID: 108431546\n"
     ]
    }
   ],
   "source": [
    "sender = MessageSender()\n",
    "\n",
    "sender.send_msg_to_chat(chat_id, text)\n",
    "sender.show_stats()"
   ]
  },
  {
   "cell_type": "code",
   "execution_count": 15,
   "metadata": {},
   "outputs": [
    {
     "data": {
      "application/vnd.jupyter.widget-view+json": {
       "model_id": "85ae36861d7e458eb1b262fa42ad287d",
       "version_major": 2,
       "version_minor": 0
      },
      "text/plain": [
       "HBox(children=(FloatProgress(value=0.0, max=6.0), HTML(value='')))"
      ]
     },
     "metadata": {},
     "output_type": "display_data"
    },
    {
     "name": "stdout",
     "output_type": "stream",
     "text": [
      "\n"
     ]
    },
    {
     "data": {
      "image/png": "[encoded data removed]",
      "text/plain": [
       "<Figure size 432x288 with 1 Axes>"
      ]
     },
     "metadata": {
      "needs_background": "light"
     },
     "output_type": "display_data"
    },
    {
     "data": {
      "image/png": "[encoded data removed]",
      "text/plain": [
       "<Figure size 432x288 with 1 Axes>"
      ]
     },
     "metadata": {
      "needs_background": "light"
     },
     "output_type": "display_data"
    },
    {
     "name": "stdout",
     "output_type": "stream",
     "text": [
      "Problematic chat_ids: 2200222, 6157160, 6735995, 7118592, 120248031\n"
     ]
    }
   ],
   "source": [
    "multiple_sender = MultipleMessagesSender()\n",
    "\n",
    "multiple_sender.send_msg_to_everyone(text, True)\n",
    "multiple_sender.show_stats()"
   ]
  },
  {
   "cell_type": "markdown",
   "metadata": {},
   "source": [
    "## DB dump in google drive"
   ]
  },
  {
   "cell_type": "code",
   "execution_count": 18,
   "metadata": {},
   "outputs": [
    {
     "ename": "InvalidConfigError",
     "evalue": "Invalid client secrets file ('Error opening file', 'client_secrets.json', 'No such file or directory', 2)",
     "output_type": "error",
     "traceback": [
      "\u001b[0;31m---------------------------------------------------------------------------\u001b[0m",
      "\u001b[0;31mFileNotFoundError\u001b[0m                         Traceback (most recent call last)",
      "\u001b[0;32m/usr/local/lib/python3.7/site-packages/oauth2client/clientsecrets.py\u001b[0m in \u001b[0;36m_loadfile\u001b[0;34m(filename)\u001b[0m\n\u001b[1;32m    120\u001b[0m     \u001b[0;32mtry\u001b[0m\u001b[0;34m:\u001b[0m\u001b[0;34m\u001b[0m\u001b[0;34m\u001b[0m\u001b[0m\n\u001b[0;32m--> 121\u001b[0;31m         \u001b[0;32mwith\u001b[0m \u001b[0mopen\u001b[0m\u001b[0;34m(\u001b[0m\u001b[0mfilename\u001b[0m\u001b[0;34m,\u001b[0m \u001b[0;34m'r'\u001b[0m\u001b[0;34m)\u001b[0m \u001b[0;32mas\u001b[0m \u001b[0mfp\u001b[0m\u001b[0;34m:\u001b[0m\u001b[0;34m\u001b[0m\u001b[0;34m\u001b[0m\u001b[0m\n\u001b[0m\u001b[1;32m    122\u001b[0m             \u001b[0mobj\u001b[0m \u001b[0;34m=\u001b[0m \u001b[0mjson\u001b[0m\u001b[0;34m.\u001b[0m\u001b[0mload\u001b[0m\u001b[0;34m(\u001b[0m\u001b[0mfp\u001b[0m\u001b[0;34m)\u001b[0m\u001b[0;34m\u001b[0m\u001b[0;34m\u001b[0m\u001b[0m\n",
      "\u001b[0;31mFileNotFoundError\u001b[0m: [Errno 2] No such file or directory: 'client_secrets.json'",
      "\nDuring handling of the above exception, another exception occurred:\n",
      "\u001b[0;31mInvalidClientSecretsError\u001b[0m                 Traceback (most recent call last)",
      "\u001b[0;32m/usr/local/lib/python3.7/site-packages/pydrive/auth.py\u001b[0m in \u001b[0;36mLoadClientConfigFile\u001b[0;34m(self, client_config_file)\u001b[0m\n\u001b[1;32m    385\u001b[0m     \u001b[0;32mtry\u001b[0m\u001b[0;34m:\u001b[0m\u001b[0;34m\u001b[0m\u001b[0;34m\u001b[0m\u001b[0m\n\u001b[0;32m--> 386\u001b[0;31m       \u001b[0mclient_type\u001b[0m\u001b[0;34m,\u001b[0m \u001b[0mclient_info\u001b[0m \u001b[0;34m=\u001b[0m \u001b[0mclientsecrets\u001b[0m\u001b[0;34m.\u001b[0m\u001b[0mloadfile\u001b[0m\u001b[0;34m(\u001b[0m\u001b[0mclient_config_file\u001b[0m\u001b[0;34m)\u001b[0m\u001b[0;34m\u001b[0m\u001b[0;34m\u001b[0m\u001b[0m\n\u001b[0m\u001b[1;32m    387\u001b[0m     \u001b[0;32mexcept\u001b[0m \u001b[0mclientsecrets\u001b[0m\u001b[0;34m.\u001b[0m\u001b[0mInvalidClientSecretsError\u001b[0m \u001b[0;32mas\u001b[0m \u001b[0merror\u001b[0m\u001b[0;34m:\u001b[0m\u001b[0;34m\u001b[0m\u001b[0;34m\u001b[0m\u001b[0m\n",
      "\u001b[0;32m/usr/local/lib/python3.7/site-packages/oauth2client/clientsecrets.py\u001b[0m in \u001b[0;36mloadfile\u001b[0;34m(filename, cache)\u001b[0m\n\u001b[1;32m    164\u001b[0m     \u001b[0;32mif\u001b[0m \u001b[0;32mnot\u001b[0m \u001b[0mcache\u001b[0m\u001b[0;34m:\u001b[0m\u001b[0;34m\u001b[0m\u001b[0;34m\u001b[0m\u001b[0m\n\u001b[0;32m--> 165\u001b[0;31m         \u001b[0;32mreturn\u001b[0m \u001b[0m_loadfile\u001b[0m\u001b[0;34m(\u001b[0m\u001b[0mfilename\u001b[0m\u001b[0;34m)\u001b[0m\u001b[0;34m\u001b[0m\u001b[0;34m\u001b[0m\u001b[0m\n\u001b[0m\u001b[1;32m    166\u001b[0m \u001b[0;34m\u001b[0m\u001b[0m\n",
      "\u001b[0;32m/usr/local/lib/python3.7/site-packages/oauth2client/clientsecrets.py\u001b[0m in \u001b[0;36m_loadfile\u001b[0;34m(filename)\u001b[0m\n\u001b[1;32m    124\u001b[0m         raise InvalidClientSecretsError('Error opening file', exc.filename,\n\u001b[0;32m--> 125\u001b[0;31m                                         exc.strerror, exc.errno)\n\u001b[0m\u001b[1;32m    126\u001b[0m     \u001b[0;32mreturn\u001b[0m \u001b[0m_validate_clientsecrets\u001b[0m\u001b[0;34m(\u001b[0m\u001b[0mobj\u001b[0m\u001b[0;34m)\u001b[0m\u001b[0;34m\u001b[0m\u001b[0;34m\u001b[0m\u001b[0m\n",
      "\u001b[0;31mInvalidClientSecretsError\u001b[0m: ('Error opening file', 'client_secrets.json', 'No such file or directory', 2)",
      "\nDuring handling of the above exception, another exception occurred:\n",
      "\u001b[0;31mInvalidConfigError\u001b[0m                        Traceback (most recent call last)",
      "\u001b[0;32m<ipython-input-18-6e7ce101c2dc>\u001b[0m in \u001b[0;36m<module>\u001b[0;34m\u001b[0m\n\u001b[1;32m      4\u001b[0m \u001b[0;34m\u001b[0m\u001b[0m\n\u001b[1;32m      5\u001b[0m \u001b[0mgauth\u001b[0m \u001b[0;34m=\u001b[0m \u001b[0mGoogleAuth\u001b[0m\u001b[0;34m(\u001b[0m\u001b[0;34m)\u001b[0m\u001b[0;34m\u001b[0m\u001b[0;34m\u001b[0m\u001b[0m\n\u001b[0;32m----> 6\u001b[0;31m \u001b[0mgauth\u001b[0m\u001b[0;34m.\u001b[0m\u001b[0mLocalWebserverAuth\u001b[0m\u001b[0;34m(\u001b[0m\u001b[0;34m)\u001b[0m\u001b[0;34m\u001b[0m\u001b[0;34m\u001b[0m\u001b[0m\n\u001b[0m\u001b[1;32m      7\u001b[0m \u001b[0;34m\u001b[0m\u001b[0m\n\u001b[1;32m      8\u001b[0m \u001b[0mdrive\u001b[0m \u001b[0;34m=\u001b[0m \u001b[0mGoogleDrive\u001b[0m\u001b[0;34m(\u001b[0m\u001b[0mgauth\u001b[0m\u001b[0;34m)\u001b[0m\u001b[0;34m\u001b[0m\u001b[0;34m\u001b[0m\u001b[0m\n",
      "\u001b[0;32m/usr/local/lib/python3.7/site-packages/pydrive/auth.py\u001b[0m in \u001b[0;36m_decorated\u001b[0;34m(self, *args, **kwargs)\u001b[0m\n\u001b[1;32m    111\u001b[0m       \u001b[0mself\u001b[0m\u001b[0;34m.\u001b[0m\u001b[0mLoadCredentials\u001b[0m\u001b[0;34m(\u001b[0m\u001b[0;34m)\u001b[0m\u001b[0;34m\u001b[0m\u001b[0;34m\u001b[0m\u001b[0m\n\u001b[1;32m    112\u001b[0m     \u001b[0;32mif\u001b[0m \u001b[0mself\u001b[0m\u001b[0;34m.\u001b[0m\u001b[0mflow\u001b[0m \u001b[0;32mis\u001b[0m \u001b[0;32mNone\u001b[0m\u001b[0;34m:\u001b[0m\u001b[0;34m\u001b[0m\u001b[0;34m\u001b[0m\u001b[0m\n\u001b[0;32m--> 113\u001b[0;31m       \u001b[0mself\u001b[0m\u001b[0;34m.\u001b[0m\u001b[0mGetFlow\u001b[0m\u001b[0;34m(\u001b[0m\u001b[0;34m)\u001b[0m\u001b[0;34m\u001b[0m\u001b[0;34m\u001b[0m\u001b[0m\n\u001b[0m\u001b[1;32m    114\u001b[0m     \u001b[0;32mif\u001b[0m \u001b[0mself\u001b[0m\u001b[0;34m.\u001b[0m\u001b[0mcredentials\u001b[0m \u001b[0;32mis\u001b[0m \u001b[0;32mNone\u001b[0m\u001b[0;34m:\u001b[0m\u001b[0;34m\u001b[0m\u001b[0;34m\u001b[0m\u001b[0m\n\u001b[1;32m    115\u001b[0m       \u001b[0mcode\u001b[0m \u001b[0;34m=\u001b[0m \u001b[0mdecoratee\u001b[0m\u001b[0;34m(\u001b[0m\u001b[0mself\u001b[0m\u001b[0;34m,\u001b[0m \u001b[0;34m*\u001b[0m\u001b[0margs\u001b[0m\u001b[0;34m,\u001b[0m \u001b[0;34m**\u001b[0m\u001b[0mkwargs\u001b[0m\u001b[0;34m)\u001b[0m\u001b[0;34m\u001b[0m\u001b[0;34m\u001b[0m\u001b[0m\n",
      "\u001b[0;32m/usr/local/lib/python3.7/site-packages/pydrive/auth.py\u001b[0m in \u001b[0;36mGetFlow\u001b[0;34m(self)\u001b[0m\n\u001b[1;32m    441\u001b[0m     if not all(config in self.client_config \\\n\u001b[1;32m    442\u001b[0m                for config in self.CLIENT_CONFIGS_LIST):\n\u001b[0;32m--> 443\u001b[0;31m       \u001b[0mself\u001b[0m\u001b[0;34m.\u001b[0m\u001b[0mLoadClientConfig\u001b[0m\u001b[0;34m(\u001b[0m\u001b[0;34m)\u001b[0m\u001b[0;34m\u001b[0m\u001b[0;34m\u001b[0m\u001b[0m\n\u001b[0m\u001b[1;32m    444\u001b[0m     constructor_kwargs = {\n\u001b[1;32m    445\u001b[0m         \u001b[0;34m'redirect_uri'\u001b[0m\u001b[0;34m:\u001b[0m \u001b[0mself\u001b[0m\u001b[0;34m.\u001b[0m\u001b[0mclient_config\u001b[0m\u001b[0;34m[\u001b[0m\u001b[0;34m'redirect_uri'\u001b[0m\u001b[0;34m]\u001b[0m\u001b[0;34m,\u001b[0m\u001b[0;34m\u001b[0m\u001b[0;34m\u001b[0m\u001b[0m\n",
      "\u001b[0;32m/usr/local/lib/python3.7/site-packages/pydrive/auth.py\u001b[0m in \u001b[0;36mLoadClientConfig\u001b[0;34m(self, backend)\u001b[0m\n\u001b[1;32m    364\u001b[0m         \u001b[0;32mraise\u001b[0m \u001b[0mInvalidConfigError\u001b[0m\u001b[0;34m(\u001b[0m\u001b[0;34m'Please specify client config backend'\u001b[0m\u001b[0;34m)\u001b[0m\u001b[0;34m\u001b[0m\u001b[0;34m\u001b[0m\u001b[0m\n\u001b[1;32m    365\u001b[0m     \u001b[0;32mif\u001b[0m \u001b[0mbackend\u001b[0m \u001b[0;34m==\u001b[0m \u001b[0;34m'file'\u001b[0m\u001b[0;34m:\u001b[0m\u001b[0;34m\u001b[0m\u001b[0;34m\u001b[0m\u001b[0m\n\u001b[0;32m--> 366\u001b[0;31m       \u001b[0mself\u001b[0m\u001b[0;34m.\u001b[0m\u001b[0mLoadClientConfigFile\u001b[0m\u001b[0;34m(\u001b[0m\u001b[0;34m)\u001b[0m\u001b[0;34m\u001b[0m\u001b[0;34m\u001b[0m\u001b[0m\n\u001b[0m\u001b[1;32m    367\u001b[0m     \u001b[0;32melif\u001b[0m \u001b[0mbackend\u001b[0m \u001b[0;34m==\u001b[0m \u001b[0;34m'settings'\u001b[0m\u001b[0;34m:\u001b[0m\u001b[0;34m\u001b[0m\u001b[0;34m\u001b[0m\u001b[0m\n\u001b[1;32m    368\u001b[0m       \u001b[0mself\u001b[0m\u001b[0;34m.\u001b[0m\u001b[0mLoadClientConfigSettings\u001b[0m\u001b[0;34m(\u001b[0m\u001b[0;34m)\u001b[0m\u001b[0;34m\u001b[0m\u001b[0;34m\u001b[0m\u001b[0m\n",
      "\u001b[0;32m/usr/local/lib/python3.7/site-packages/pydrive/auth.py\u001b[0m in \u001b[0;36mLoadClientConfigFile\u001b[0;34m(self, client_config_file)\u001b[0m\n\u001b[1;32m    386\u001b[0m       \u001b[0mclient_type\u001b[0m\u001b[0;34m,\u001b[0m \u001b[0mclient_info\u001b[0m \u001b[0;34m=\u001b[0m \u001b[0mclientsecrets\u001b[0m\u001b[0;34m.\u001b[0m\u001b[0mloadfile\u001b[0m\u001b[0;34m(\u001b[0m\u001b[0mclient_config_file\u001b[0m\u001b[0;34m)\u001b[0m\u001b[0;34m\u001b[0m\u001b[0;34m\u001b[0m\u001b[0m\n\u001b[1;32m    387\u001b[0m     \u001b[0;32mexcept\u001b[0m \u001b[0mclientsecrets\u001b[0m\u001b[0;34m.\u001b[0m\u001b[0mInvalidClientSecretsError\u001b[0m \u001b[0;32mas\u001b[0m \u001b[0merror\u001b[0m\u001b[0;34m:\u001b[0m\u001b[0;34m\u001b[0m\u001b[0;34m\u001b[0m\u001b[0m\n\u001b[0;32m--> 388\u001b[0;31m       \u001b[0;32mraise\u001b[0m \u001b[0mInvalidConfigError\u001b[0m\u001b[0;34m(\u001b[0m\u001b[0;34m'Invalid client secrets file %s'\u001b[0m \u001b[0;34m%\u001b[0m \u001b[0merror\u001b[0m\u001b[0;34m)\u001b[0m\u001b[0;34m\u001b[0m\u001b[0;34m\u001b[0m\u001b[0m\n\u001b[0m\u001b[1;32m    389\u001b[0m     if not client_type in (clientsecrets.TYPE_WEB,\n\u001b[1;32m    390\u001b[0m                            clientsecrets.TYPE_INSTALLED):\n",
      "\u001b[0;31mInvalidConfigError\u001b[0m: Invalid client secrets file ('Error opening file', 'client_secrets.json', 'No such file or directory', 2)"
     ]
    }
   ],
   "source": [
    "# !gzip -c hse-military-bot-users-export.json > users-7.04.20-21:56:47.gz\n",
    "from datetime import datetime\n",
    "\n",
    "from pydrive.auth import GoogleAuth\n",
    "from pydrive.drive import GoogleDrive\n",
    "\n",
    "gauth = GoogleAuth()\n",
    "gauth.LocalWebserverAuth()\n",
    "\n",
    "drive = GoogleDrive(gauth)"
   ]
  },
  {
   "cell_type": "code",
   "execution_count": 35,
   "metadata": {},
   "outputs": [
    {
     "data": {
      "text/plain": [
       "'2020-05-01T18:47:23.349603'"
      ]
     },
     "execution_count": 35,
     "metadata": {},
     "output_type": "execute_result"
    }
   ],
   "source": [
    "from datetime import datetime\n",
    "\n",
    "datetime.utcnow().isoformat()\n",
    "\n",
    "# file = drive.CreateFile({'title': 'Hello.txt'})\n",
    "# file.SetContentString(json.dumps(database.users_db))\n",
    "# file.Upload()"
   ]
  },
  {
   "cell_type": "code",
   "execution_count": 37,
   "metadata": {},
   "outputs": [],
   "source": [
    "# TODO: функция по откату БД\n",
    "# TODO: очищать все следы жизнедеятельности"
   ]
  },
  {
   "cell_type": "code",
   "execution_count": null,
   "metadata": {},
   "outputs": [],
   "source": [
    "import json\n",
    "import gzip\n",
    " \n",
    "with gzip.open(\"input.json.gz\", \"rb\") as f:\n",
    "    d = json.loads(f.read().decode(\"utf-8\"))"
   ]
  }
 ],
 "metadata": {
  "kernelspec": {
   "display_name": "Python 3",
   "language": "python",
   "name": "python3"
  },
  "language_info": {
   "codemirror_mode": {
    "name": "ipython",
    "version": 3
   },
   "file_extension": ".py",
   "mimetype": "text/x-python",
   "name": "python",
   "nbconvert_exporter": "python",
   "pygments_lexer": "ipython3",
   "version": "3.7.7"
  }
 },
 "nbformat": 4,
 "nbformat_minor": 2
}