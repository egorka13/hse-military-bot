{
 "cells": [
  {
   "cell_type": "markdown",
   "metadata": {
    "colab_type": "text",
    "id": "9_i1d9KJ2szb"
   },
   "source": [
    "## Setup the environment"
   ]
  },
  {
   "cell_type": "code",
   "execution_count": 1,
   "metadata": {
    "colab": {
     "base_uri": "https://localhost:8080/",
     "height": 870
    },
    "colab_type": "code",
    "executionInfo": {
     "elapsed": 7381,
     "status": "ok",
     "timestamp": 1588599967145,
     "user": {
      "displayName": "Maxim Shmakov",
      "photoUrl": "",
      "userId": "01063306844026308631"
     },
     "user_tz": -300
    },
    "id": "fA-jNr_Q2szc",
    "outputId": "97f9902e-704b-4160-c8de-f504ec7617c2",
    "scrolled": true
   },
   "outputs": [
    {
     "name": "stdout",
     "output_type": "stream",
     "text": [
      "Requirement already up-to-date: python-dotenv in /usr/local/lib/python3.7/site-packages (0.13.0)\n",
      "Requirement already up-to-date: firebase-admin in /usr/local/lib/python3.7/site-packages (4.2.0)\n",
      "Requirement already up-to-date: tqdm in /usr/local/lib/python3.7/site-packages (4.46.0)\n",
      "Requirement already up-to-date: asyncio in /usr/local/lib/python3.7/site-packages (3.4.3)\n",
      "Requirement already up-to-date: nest_asyncio in /usr/local/lib/python3.7/site-packages (1.3.3)\n",
      "Requirement already up-to-date: aiohttp in /usr/local/lib/python3.7/site-packages (3.6.2)\n",
      "Requirement already up-to-date: numpy in /usr/local/lib/python3.7/site-packages (1.18.4)\n",
      "Requirement already up-to-date: matplotlib in /usr/local/lib/python3.7/site-packages (3.2.1)\n",
      "Requirement already satisfied, skipping upgrade: google-cloud-firestore>=1.4.0; platform_python_implementation != \"PyPy\" in /usr/local/lib/python3.7/site-packages (from firebase-admin) (1.6.2)\n",
      "Requirement already satisfied, skipping upgrade: google-api-core[grpc]<2.0.0dev,>=1.14.0; platform_python_implementation != \"PyPy\" in /usr/local/lib/python3.7/site-packages (from firebase-admin) (1.17.0)\n",
      "Requirement already satisfied, skipping upgrade: google-api-python-client>=1.7.8 in /usr/local/lib/python3.7/site-packages (from firebase-admin) (1.8.2)\n",
      "Requirement already satisfied, skipping upgrade: google-cloud-storage>=1.18.0 in /usr/local/lib/python3.7/site-packages (from firebase-admin) (1.28.0)\n",
      "Requirement already satisfied, skipping upgrade: cachecontrol>=0.12.6 in /usr/local/lib/python3.7/site-packages (from firebase-admin) (0.12.6)\n",
      "Requirement already satisfied, skipping upgrade: async-timeout<4.0,>=3.0 in /usr/local/lib/python3.7/site-packages (from aiohttp) (3.0.1)\n",
      "Requirement already satisfied, skipping upgrade: attrs>=17.3.0 in /usr/local/lib/python3.7/site-packages (from aiohttp) (19.3.0)\n",
      "Requirement already satisfied, skipping upgrade: yarl<2.0,>=1.0 in /usr/local/lib/python3.7/site-packages (from aiohttp) (1.4.2)\n",
      "Requirement already satisfied, skipping upgrade: multidict<5.0,>=4.5 in /usr/local/lib/python3.7/site-packages (from aiohttp) (4.7.5)\n",
      "Requirement already satisfied, skipping upgrade: chardet<4.0,>=2.0 in /Users/mvshmakovmv/Library/Python/3.7/lib/python/site-packages (from aiohttp) (3.0.4)\n",
      "Requirement already satisfied, skipping upgrade: kiwisolver>=1.0.1 in /usr/local/lib/python3.7/site-packages (from matplotlib) (1.2.0)\n",
      "Requirement already satisfied, skipping upgrade: python-dateutil>=2.1 in /usr/local/lib/python3.7/site-packages (from matplotlib) (2.8.1)\n",
      "Requirement already satisfied, skipping upgrade: pyparsing!=2.0.4,!=2.1.2,!=2.1.6,>=2.0.1 in /usr/local/lib/python3.7/site-packages (from matplotlib) (2.4.7)\n",
      "Requirement already satisfied, skipping upgrade: cycler>=0.10 in /usr/local/lib/python3.7/site-packages (from matplotlib) (0.10.0)\n",
      "Requirement already satisfied, skipping upgrade: pytz in /usr/local/lib/python3.7/site-packages (from google-cloud-firestore>=1.4.0; platform_python_implementation != \"PyPy\"->firebase-admin) (2020.1)\n",
      "Requirement already satisfied, skipping upgrade: google-cloud-core<2.0dev,>=1.0.3 in /usr/local/lib/python3.7/site-packages (from google-cloud-firestore>=1.4.0; platform_python_implementation != \"PyPy\"->firebase-admin) (1.3.0)\n",
      "Requirement already satisfied, skipping upgrade: setuptools>=34.0.0 in /usr/local/lib/python3.7/site-packages (from google-api-core[grpc]<2.0.0dev,>=1.14.0; platform_python_implementation != \"PyPy\"->firebase-admin) (46.0.0)\n",
      "Requirement already satisfied, skipping upgrade: protobuf>=3.4.0 in /usr/local/Cellar/protobuf/3.11.4/libexec/lib/python3.7/site-packages (from google-api-core[grpc]<2.0.0dev,>=1.14.0; platform_python_implementation != \"PyPy\"->firebase-admin) (3.11.4)\n",
      "Requirement already satisfied, skipping upgrade: six>=1.10.0 in /usr/local/Cellar/protobuf/3.11.4/libexec/lib/python3.7/site-packages (from google-api-core[grpc]<2.0.0dev,>=1.14.0; platform_python_implementation != \"PyPy\"->firebase-admin) (1.14.0)\n",
      "Requirement already satisfied, skipping upgrade: requests<3.0.0dev,>=2.18.0 in /Users/mvshmakovmv/Library/Python/3.7/lib/python/site-packages (from google-api-core[grpc]<2.0.0dev,>=1.14.0; platform_python_implementation != \"PyPy\"->firebase-admin) (2.23.0)\n",
      "Requirement already satisfied, skipping upgrade: google-auth<2.0dev,>=1.14.0 in /usr/local/lib/python3.7/site-packages (from google-api-core[grpc]<2.0.0dev,>=1.14.0; platform_python_implementation != \"PyPy\"->firebase-admin) (1.14.1)\n",
      "Requirement already satisfied, skipping upgrade: googleapis-common-protos<2.0dev,>=1.6.0 in /usr/local/lib/python3.7/site-packages (from google-api-core[grpc]<2.0.0dev,>=1.14.0; platform_python_implementation != \"PyPy\"->firebase-admin) (1.51.0)\n",
      "Requirement already satisfied, skipping upgrade: grpcio<2.0dev,>=1.8.2; extra == \"grpc\" in /usr/local/lib/python3.7/site-packages (from google-api-core[grpc]<2.0.0dev,>=1.14.0; platform_python_implementation != \"PyPy\"->firebase-admin) (1.28.1)\n",
      "Requirement already satisfied, skipping upgrade: uritemplate<4dev,>=3.0.0 in /usr/local/lib/python3.7/site-packages (from google-api-python-client>=1.7.8->firebase-admin) (3.0.1)\n",
      "Requirement already satisfied, skipping upgrade: httplib2<1dev,>=0.9.2 in /usr/local/lib/python3.7/site-packages (from google-api-python-client>=1.7.8->firebase-admin) (0.17.3)\n",
      "Requirement already satisfied, skipping upgrade: google-auth-httplib2>=0.0.3 in /usr/local/lib/python3.7/site-packages (from google-api-python-client>=1.7.8->firebase-admin) (0.0.3)\n",
      "Requirement already satisfied, skipping upgrade: google-resumable-media<0.6dev,>=0.5.0 in /usr/local/lib/python3.7/site-packages (from google-cloud-storage>=1.18.0->firebase-admin) (0.5.0)\n",
      "Requirement already satisfied, skipping upgrade: msgpack>=0.5.2 in /usr/local/lib/python3.7/site-packages (from cachecontrol>=0.12.6->firebase-admin) (1.0.0)\n",
      "Requirement already satisfied, skipping upgrade: idna>=2.0 in /Users/mvshmakovmv/Library/Python/3.7/lib/python/site-packages (from yarl<2.0,>=1.0->aiohttp) (2.9)\n",
      "Requirement already satisfied, skipping upgrade: urllib3!=1.25.0,!=1.25.1,<1.26,>=1.21.1 in /Users/mvshmakovmv/Library/Python/3.7/lib/python/site-packages (from requests<3.0.0dev,>=2.18.0->google-api-core[grpc]<2.0.0dev,>=1.14.0; platform_python_implementation != \"PyPy\"->firebase-admin) (1.25.8)\n",
      "Requirement already satisfied, skipping upgrade: certifi>=2017.4.17 in /Users/mvshmakovmv/Library/Python/3.7/lib/python/site-packages (from requests<3.0.0dev,>=2.18.0->google-api-core[grpc]<2.0.0dev,>=1.14.0; platform_python_implementation != \"PyPy\"->firebase-admin) (2019.11.28)\n",
      "Requirement already satisfied, skipping upgrade: cachetools<5.0,>=2.0.0 in /usr/local/lib/python3.7/site-packages (from google-auth<2.0dev,>=1.14.0->google-api-core[grpc]<2.0.0dev,>=1.14.0; platform_python_implementation != \"PyPy\"->firebase-admin) (4.1.0)\n",
      "Requirement already satisfied, skipping upgrade: rsa<4.1,>=3.1.4 in /usr/local/lib/python3.7/site-packages (from google-auth<2.0dev,>=1.14.0->google-api-core[grpc]<2.0.0dev,>=1.14.0; platform_python_implementation != \"PyPy\"->firebase-admin) (4.0)\n",
      "Requirement already satisfied, skipping upgrade: pyasn1-modules>=0.2.1 in /usr/local/lib/python3.7/site-packages (from google-auth<2.0dev,>=1.14.0->google-api-core[grpc]<2.0.0dev,>=1.14.0; platform_python_implementation != \"PyPy\"->firebase-admin) (0.2.8)\n",
      "Requirement already satisfied, skipping upgrade: pyasn1>=0.1.3 in /usr/local/lib/python3.7/site-packages (from rsa<4.1,>=3.1.4->google-auth<2.0dev,>=1.14.0->google-api-core[grpc]<2.0.0dev,>=1.14.0; platform_python_implementation != \"PyPy\"->firebase-admin) (0.4.8)\n"
     ]
    }
   ],
   "source": [
    "from sys import executable\n",
    "!{executable} -m pip install -U python-dotenv firebase-admin tqdm asyncio nest_asyncio aiohttp numpy matplotlib"
   ]
  },
  {
   "cell_type": "markdown",
   "metadata": {
    "colab_type": "text",
    "id": "-r2J6ju67RE2"
   },
   "source": [
    "## Mount Google Drive if in Google Colab"
   ]
  },
  {
   "cell_type": "code",
   "execution_count": 2,
   "metadata": {},
   "outputs": [],
   "source": [
    "from os import environ"
   ]
  },
  {
   "cell_type": "code",
   "execution_count": 3,
   "metadata": {
    "colab": {
     "base_uri": "https://localhost:8080/",
     "height": 34
    },
    "colab_type": "code",
    "executionInfo": {
     "elapsed": 7370,
     "status": "ok",
     "timestamp": 1588599967146,
     "user": {
      "displayName": "Maxim Shmakov",
      "photoUrl": "",
      "userId": "01063306844026308631"
     },
     "user_tz": -300
    },
    "id": "GUKfs6e_5Ium",
    "outputId": "17c200a1-15ce-4873-8fd2-2f26aa605671"
   },
   "outputs": [],
   "source": [
    "IS_IN_COLAB = 'COLAB_GPU' in environ\n",
    "\n",
    "if IS_IN_COLAB:\n",
    "    from google.colab import drive\n",
    "    drive.mount('/content/drive')"
   ]
  },
  {
   "cell_type": "markdown",
   "metadata": {
    "colab_type": "text",
    "id": "xE_z0tJc2szr"
   },
   "source": [
    "## Load .env configuration"
   ]
  },
  {
   "cell_type": "markdown",
   "metadata": {
    "colab_type": "text",
    "id": "lt8Iivh92szs"
   },
   "source": [
    "Supposing that we have .env in parent folder (if run locally) or that we have prod.env and dev.env configuration files in Google Drive"
   ]
  },
  {
   "cell_type": "code",
   "execution_count": 4,
   "metadata": {},
   "outputs": [],
   "source": [
    "from shutil import copyfile"
   ]
  },
  {
   "cell_type": "code",
   "execution_count": 5,
   "metadata": {
    "colab": {},
    "colab_type": "code",
    "id": "PkovnmB-2APu"
   },
   "outputs": [
    {
     "name": "stdout",
     "output_type": "stream",
     "text": [
      "Please, specify the environment (prod/dev)\n"
     ]
    },
    {
     "name": "stdin",
     "output_type": "stream",
     "text": [
      " dev\n"
     ]
    }
   ],
   "source": [
    "while True:\n",
    "    print(\"Please, specify the environment (prod/dev)\")\n",
    "\n",
    "    ENVIRONMENT = input()\n",
    "    if ENVIRONMENT == 'prod' or ENVIRONMENT == 'dev':\n",
    "        break"
   ]
  },
  {
   "cell_type": "code",
   "execution_count": 6,
   "metadata": {},
   "outputs": [],
   "source": [
    "# dotenv package does not work correctly with mouted storage, so moving .env to local directory\n",
    "if IS_IN_COLAB:\n",
    "    if ENVIRONMENT == 'dev':\n",
    "        file_path = './drive/My Drive/hse-military-bot/dev.env'\n",
    "    else:\n",
    "        file_path = './drive/My Drive/hse-military-bot/prod.env'\n",
    "\n",
    "    copyfile(file_path, './.env')"
   ]
  },
  {
   "cell_type": "code",
   "execution_count": 7,
   "metadata": {
    "colab": {},
    "colab_type": "code",
    "id": "Anpj3jj02szt"
   },
   "outputs": [],
   "source": [
    "%reload_ext dotenv\n",
    "%dotenv\n",
    "\n",
    "from dotenv import dotenv_values\n",
    "ENV = dotenv_values()"
   ]
  },
  {
   "cell_type": "markdown",
   "metadata": {
    "colab_type": "text",
    "id": "wQ-DLSML2sz1"
   },
   "source": [
    "## Database initialization and queries"
   ]
  },
  {
   "cell_type": "code",
   "execution_count": 8,
   "metadata": {
    "colab": {},
    "colab_type": "code",
    "id": "Apbs7Wcc2sz2"
   },
   "outputs": [
    {
     "name": "stderr",
     "output_type": "stream",
     "text": [
      "/usr/local/lib/python3.7/site-packages/pandas/compat/__init__.py:117: UserWarning: Could not import the lzma module. Your installed Python is incomplete. Attempting to use lzma compression will result in a RuntimeError.\n",
      "  warnings.warn(msg)\n"
     ]
    }
   ],
   "source": [
    "from pandas import DataFrame\n",
    "from itertools import repeat\n",
    "\n",
    "from firebase_admin import db, credentials, initialize_app"
   ]
  },
  {
   "cell_type": "code",
   "execution_count": 9,
   "metadata": {
    "colab": {},
    "colab_type": "code",
    "id": "EsP8SLnZ2sz5"
   },
   "outputs": [],
   "source": [
    "class Database():\n",
    "    DEBUG_USER_IDS = [108431546, 120248031]\n",
    "\n",
    "    def __init__(self, debug_user_ids=None):\n",
    "        # Fetch the service account key JSON file contents\n",
    "        creds = credentials.Certificate({\n",
    "            'type': 'service_account',\n",
    "            \"token_uri\": \"https://accounts.google.com/o/oauth2/token\",\n",
    "\n",
    "            'project_id': ENV['FIREBASE_USERS_PROJECT_ID'],\n",
    "            'client_email': ENV['FIREBASE_USERS_CLIENT_EMAIL'],\n",
    "            'private_key': ENV['FIREBASE_USERS_PRIVATE_KEY'].replace('\\\\n', '\\n'),\n",
    "        })\n",
    "\n",
    "        # Initialize the app with a service account, granting admin privileges\n",
    "        initialize_app(creds, {\n",
    "            'databaseURL': ENV['FIREBASE_USERS_URL']\n",
    "        })\n",
    "        \n",
    "        # As an admin, the app has access to read and write all data, regradless of Security Rules\n",
    "        self.users_db = db.reference('users').get()\n",
    "\n",
    "        if debug_user_ids:\n",
    "            self.DEBUG_USER_IDS = debug_user_ids\n",
    "\n",
    "    def get_version(self):\n",
    "        return db.reference('/').get()['version']\n",
    "\n",
    "    def get_user_by_id(self, user_id, as_df=True):\n",
    "        try:\n",
    "            user = self.users_db[str(user_id)]\n",
    "            if as_df:\n",
    "                return DataFrame([user])\n",
    "            return user\n",
    "        except AttributeError as error:\n",
    "            raise AttributeError(f\"No user in database with id: {user_id}\")\n",
    "    \n",
    "    def get_users_by_ids(self, user_ids, as_df=True):\n",
    "        users = list(map(self.get_user_by_id, user_ids, repeat(False)))\n",
    "        if as_df:\n",
    "            return DataFrame(users)\n",
    "        return users\n",
    "\n",
    "    def get_user_by_username(self, username, as_df=True):\n",
    "        for user in self.get_users_as_list():\n",
    "            if 'username' in user and user['username'] == username:\n",
    "                if as_df:\n",
    "                    return DataFrame([user])\n",
    "                return user\n",
    "        raise AttributeError(f'No user with username: {username}')\n",
    "\n",
    "    def get_users_by_usernames(self, usernames, as_df=True):\n",
    "        users = list(map(self.get_user_by_username, usernames, repeat(False)))\n",
    "        if as_df:\n",
    "            return DataFrame(users)\n",
    "        return users\n",
    "\n",
    "    def get_all_chat_ids(self, debug=False):\n",
    "        int_keys = list(map(int, self.users_db.keys()))\n",
    "        if debug:\n",
    "            return int_keys[1:5] + self.DEBUG_USER_IDS\n",
    "        return int_keys\n",
    "\n",
    "    def get_users_as_list(self, debug=False):\n",
    "        users = list(self.users_db.values())\n",
    "        if debug:\n",
    "            return users[1:5] + [self.get_user_by_id(self.DEBUG_USER_IDS[0])]\n",
    "        return users"
   ]
  },
  {
   "cell_type": "code",
   "execution_count": 10,
   "metadata": {
    "colab": {},
    "colab_type": "code",
    "id": "qnSJpNvu2sz-"
   },
   "outputs": [],
   "source": [
    "database = Database()"
   ]
  },
  {
   "cell_type": "code",
   "execution_count": 11,
   "metadata": {
    "colab": {
     "base_uri": "https://localhost:8080/",
     "height": 34
    },
    "colab_type": "code",
    "executionInfo": {
     "elapsed": 7943,
     "status": "ok",
     "timestamp": 1588599967766,
     "user": {
      "displayName": "Maxim Shmakov",
      "photoUrl": "",
      "userId": "01063306844026308631"
     },
     "user_tz": -300
    },
    "id": "tgHaFp42x3W5",
    "outputId": "b371ae23-05a9-40f3-9bc3-1d2fe461ba5d"
   },
   "outputs": [
    {
     "data": {
      "text/plain": [
       "'v3'"
      ]
     },
     "execution_count": 11,
     "metadata": {},
     "output_type": "execute_result"
    }
   ],
   "source": [
    "database.get_version()"
   ]
  },
  {
   "cell_type": "code",
   "execution_count": 12,
   "metadata": {
    "colab": {
     "base_uri": "https://localhost:8080/",
     "height": 170
    },
    "colab_type": "code",
    "executionInfo": {
     "elapsed": 7935,
     "status": "ok",
     "timestamp": 1588599967767,
     "user": {
      "displayName": "Maxim Shmakov",
      "photoUrl": "",
      "userId": "01063306844026308631"
     },
     "user_tz": -300
    },
    "id": "jBoFf4CcW4s_",
    "outputId": "00b140c1-95d1-48ea-8016-aae089cc319d"
   },
   "outputs": [
    {
     "data": {
      "text/html": [
       "<div>\n",
       "<style scoped>\n",
       "    .dataframe tbody tr th:only-of-type {\n",
       "        vertical-align: middle;\n",
       "    }\n",
       "\n",
       "    .dataframe tbody tr th {\n",
       "        vertical-align: top;\n",
       "    }\n",
       "\n",
       "    .dataframe thead th {\n",
       "        text-align: right;\n",
       "    }\n",
       "</style>\n",
       "<table border=\"1\" class=\"dataframe\">\n",
       "  <thead>\n",
       "    <tr style=\"text-align: right;\">\n",
       "      <th></th>\n",
       "      <th>defaultPlatoon</th>\n",
       "      <th>first_name</th>\n",
       "      <th>id</th>\n",
       "      <th>is_bot</th>\n",
       "      <th>language_code</th>\n",
       "      <th>lastAccess</th>\n",
       "      <th>last_name</th>\n",
       "      <th>type</th>\n",
       "      <th>username</th>\n",
       "    </tr>\n",
       "  </thead>\n",
       "  <tbody>\n",
       "    <tr>\n",
       "      <th>0</th>\n",
       "      <td>1905</td>\n",
       "      <td>Maxim</td>\n",
       "      <td>108431546</td>\n",
       "      <td>False</td>\n",
       "      <td>ru</td>\n",
       "      <td>1588696684</td>\n",
       "      <td>Shmakov</td>\n",
       "      <td>private</td>\n",
       "      <td>mvshmakov</td>\n",
       "    </tr>\n",
       "  </tbody>\n",
       "</table>\n",
       "</div>"
      ],
      "text/plain": [
       "  defaultPlatoon first_name         id  is_bot language_code  lastAccess  \\\n",
       "0           1905      Maxim  108431546   False            ru  1588696684   \n",
       "\n",
       "  last_name     type   username  \n",
       "0   Shmakov  private  mvshmakov  "
      ]
     },
     "execution_count": 12,
     "metadata": {},
     "output_type": "execute_result"
    }
   ],
   "source": [
    "database.get_user_by_id(database.DEBUG_USER_IDS[0])"
   ]
  },
  {
   "cell_type": "code",
   "execution_count": 13,
   "metadata": {
    "colab": {
     "base_uri": "https://localhost:8080/",
     "height": 323
    },
    "colab_type": "code",
    "executionInfo": {
     "elapsed": 7925,
     "status": "ok",
     "timestamp": 1588599967767,
     "user": {
      "displayName": "Maxim Shmakov",
      "photoUrl": "",
      "userId": "01063306844026308631"
     },
     "user_tz": -300
    },
    "id": "FnzNBLIXW-7s",
    "outputId": "faaea38c-3e81-417e-9163-6914a0400e4d"
   },
   "outputs": [
    {
     "data": {
      "text/html": [
       "<div>\n",
       "<style scoped>\n",
       "    .dataframe tbody tr th:only-of-type {\n",
       "        vertical-align: middle;\n",
       "    }\n",
       "\n",
       "    .dataframe tbody tr th {\n",
       "        vertical-align: top;\n",
       "    }\n",
       "\n",
       "    .dataframe thead th {\n",
       "        text-align: right;\n",
       "    }\n",
       "</style>\n",
       "<table border=\"1\" class=\"dataframe\">\n",
       "  <thead>\n",
       "    <tr style=\"text-align: right;\">\n",
       "      <th></th>\n",
       "      <th>defaultPlatoon</th>\n",
       "      <th>first_name</th>\n",
       "      <th>id</th>\n",
       "      <th>is_bot</th>\n",
       "      <th>language_code</th>\n",
       "      <th>lastAccess</th>\n",
       "      <th>last_name</th>\n",
       "      <th>type</th>\n",
       "      <th>username</th>\n",
       "    </tr>\n",
       "  </thead>\n",
       "  <tbody>\n",
       "    <tr>\n",
       "      <th>0</th>\n",
       "      <td>1905</td>\n",
       "      <td>Maxim</td>\n",
       "      <td>108431546</td>\n",
       "      <td>False</td>\n",
       "      <td>ru</td>\n",
       "      <td>1588696684</td>\n",
       "      <td>Shmakov</td>\n",
       "      <td>private</td>\n",
       "      <td>mvshmakov</td>\n",
       "    </tr>\n",
       "    <tr>\n",
       "      <th>1</th>\n",
       "      <td>1801</td>\n",
       "      <td>Vasilisa</td>\n",
       "      <td>120248031</td>\n",
       "      <td>False</td>\n",
       "      <td>ru</td>\n",
       "      <td>1587837860</td>\n",
       "      <td>Diomina</td>\n",
       "      <td>private</td>\n",
       "      <td>le_bourbier</td>\n",
       "    </tr>\n",
       "  </tbody>\n",
       "</table>\n",
       "</div>"
      ],
      "text/plain": [
       "  defaultPlatoon first_name         id  is_bot language_code  lastAccess  \\\n",
       "0           1905      Maxim  108431546   False            ru  1588696684   \n",
       "1           1801   Vasilisa  120248031   False            ru  1587837860   \n",
       "\n",
       "  last_name     type     username  \n",
       "0   Shmakov  private    mvshmakov  \n",
       "1   Diomina  private  le_bourbier  "
      ]
     },
     "execution_count": 13,
     "metadata": {},
     "output_type": "execute_result"
    }
   ],
   "source": [
    "database.get_users_by_ids(database.DEBUG_USER_IDS)"
   ]
  },
  {
   "cell_type": "code",
   "execution_count": 14,
   "metadata": {
    "colab": {
     "base_uri": "https://localhost:8080/",
     "height": 170
    },
    "colab_type": "code",
    "executionInfo": {
     "elapsed": 7915,
     "status": "ok",
     "timestamp": 1588599967768,
     "user": {
      "displayName": "Maxim Shmakov",
      "photoUrl": "",
      "userId": "01063306844026308631"
     },
     "user_tz": -300
    },
    "id": "vAfKw28NYlT6",
    "outputId": "d2527a10-9dce-4205-d4e0-c1e91d9a62a9"
   },
   "outputs": [
    {
     "data": {
      "text/html": [
       "<div>\n",
       "<style scoped>\n",
       "    .dataframe tbody tr th:only-of-type {\n",
       "        vertical-align: middle;\n",
       "    }\n",
       "\n",
       "    .dataframe tbody tr th {\n",
       "        vertical-align: top;\n",
       "    }\n",
       "\n",
       "    .dataframe thead th {\n",
       "        text-align: right;\n",
       "    }\n",
       "</style>\n",
       "<table border=\"1\" class=\"dataframe\">\n",
       "  <thead>\n",
       "    <tr style=\"text-align: right;\">\n",
       "      <th></th>\n",
       "      <th>defaultPlatoon</th>\n",
       "      <th>first_name</th>\n",
       "      <th>id</th>\n",
       "      <th>is_bot</th>\n",
       "      <th>language_code</th>\n",
       "      <th>lastAccess</th>\n",
       "      <th>last_name</th>\n",
       "      <th>type</th>\n",
       "      <th>username</th>\n",
       "    </tr>\n",
       "  </thead>\n",
       "  <tbody>\n",
       "    <tr>\n",
       "      <th>0</th>\n",
       "      <td>1905</td>\n",
       "      <td>Maxim</td>\n",
       "      <td>108431546</td>\n",
       "      <td>False</td>\n",
       "      <td>ru</td>\n",
       "      <td>1588696684</td>\n",
       "      <td>Shmakov</td>\n",
       "      <td>private</td>\n",
       "      <td>mvshmakov</td>\n",
       "    </tr>\n",
       "  </tbody>\n",
       "</table>\n",
       "</div>"
      ],
      "text/plain": [
       "  defaultPlatoon first_name         id  is_bot language_code  lastAccess  \\\n",
       "0           1905      Maxim  108431546   False            ru  1588696684   \n",
       "\n",
       "  last_name     type   username  \n",
       "0   Shmakov  private  mvshmakov  "
      ]
     },
     "execution_count": 14,
     "metadata": {},
     "output_type": "execute_result"
    }
   ],
   "source": [
    "database.get_user_by_username('mvshmakov')"
   ]
  },
  {
   "cell_type": "code",
   "execution_count": 15,
   "metadata": {
    "colab": {
     "base_uri": "https://localhost:8080/",
     "height": 323
    },
    "colab_type": "code",
    "executionInfo": {
     "elapsed": 7906,
     "status": "ok",
     "timestamp": 1588599967768,
     "user": {
      "displayName": "Maxim Shmakov",
      "photoUrl": "",
      "userId": "01063306844026308631"
     },
     "user_tz": -300
    },
    "id": "sej-9IxPazCs",
    "outputId": "77d7f169-8548-431b-cb37-f6919bc73f79"
   },
   "outputs": [
    {
     "data": {
      "text/html": [
       "<div>\n",
       "<style scoped>\n",
       "    .dataframe tbody tr th:only-of-type {\n",
       "        vertical-align: middle;\n",
       "    }\n",
       "\n",
       "    .dataframe tbody tr th {\n",
       "        vertical-align: top;\n",
       "    }\n",
       "\n",
       "    .dataframe thead th {\n",
       "        text-align: right;\n",
       "    }\n",
       "</style>\n",
       "<table border=\"1\" class=\"dataframe\">\n",
       "  <thead>\n",
       "    <tr style=\"text-align: right;\">\n",
       "      <th></th>\n",
       "      <th>defaultPlatoon</th>\n",
       "      <th>first_name</th>\n",
       "      <th>id</th>\n",
       "      <th>is_bot</th>\n",
       "      <th>language_code</th>\n",
       "      <th>lastAccess</th>\n",
       "      <th>last_name</th>\n",
       "      <th>type</th>\n",
       "      <th>username</th>\n",
       "    </tr>\n",
       "  </thead>\n",
       "  <tbody>\n",
       "    <tr>\n",
       "      <th>0</th>\n",
       "      <td>1905</td>\n",
       "      <td>Maxim</td>\n",
       "      <td>108431546</td>\n",
       "      <td>False</td>\n",
       "      <td>ru</td>\n",
       "      <td>1588696684</td>\n",
       "      <td>Shmakov</td>\n",
       "      <td>private</td>\n",
       "      <td>mvshmakov</td>\n",
       "    </tr>\n",
       "    <tr>\n",
       "      <th>1</th>\n",
       "      <td>1606</td>\n",
       "      <td>Егор</td>\n",
       "      <td>94552162</td>\n",
       "      <td>False</td>\n",
       "      <td>ru</td>\n",
       "      <td>1587908646</td>\n",
       "      <td>Shirobokov</td>\n",
       "      <td>private</td>\n",
       "      <td>egorka1397</td>\n",
       "    </tr>\n",
       "  </tbody>\n",
       "</table>\n",
       "</div>"
      ],
      "text/plain": [
       "  defaultPlatoon first_name         id  is_bot language_code  lastAccess  \\\n",
       "0           1905      Maxim  108431546   False            ru  1588696684   \n",
       "1           1606       Егор   94552162   False            ru  1587908646   \n",
       "\n",
       "    last_name     type    username  \n",
       "0     Shmakov  private   mvshmakov  \n",
       "1  Shirobokov  private  egorka1397  "
      ]
     },
     "execution_count": 15,
     "metadata": {},
     "output_type": "execute_result"
    }
   ],
   "source": [
    "database.get_users_by_usernames(['mvshmakov', 'egorka1397'])"
   ]
  },
  {
   "cell_type": "markdown",
   "metadata": {
    "colab_type": "text",
    "id": "OFw_oSmY2s0y"
   },
   "source": [
    "## Database dumps in Google Drive"
   ]
  },
  {
   "cell_type": "markdown",
   "metadata": {},
   "source": [
    "Works both in the Colab and on every other machine (locally). Unfortunatelly, due to wordy Google Drive API implementation it is now required to do all the Google Drive synchronization (download/upload) manually. So, you still can use the listed API, but in slightly another way. For instance, you can create a snapshot of DB (it would be written to a local directory - './firebase-users-dumps/') and restore DB from an existing snaphot (you need to place a snapshot to the same directory)."
   ]
  },
  {
   "cell_type": "code",
   "execution_count": 16,
   "metadata": {
    "colab": {},
    "colab_type": "code",
    "id": "YMH9WRj38SoP"
   },
   "outputs": [],
   "source": [
    "import json\n",
    "\n",
    "from os import listdir, makedirs\n",
    "from os.path import isfile, join, isdir\n",
    "\n",
    "from gzip import GzipFile\n",
    "from datetime import datetime"
   ]
  },
  {
   "cell_type": "code",
   "execution_count": 17,
   "metadata": {
    "colab": {},
    "colab_type": "code",
    "id": "oHfPTx_K2s07"
   },
   "outputs": [],
   "source": [
    "class DatabaseBackuper():\n",
    "    gz_postfix = '.json.gz'\n",
    "\n",
    "    def __init__(self, db_instance):\n",
    "        self.db = db_instance\n",
    "\n",
    "        if IS_IN_COLAB:\n",
    "            self.basedir = './drive/My Drive/hse-military-bot/firebase-users-dumps/'\n",
    "        else:\n",
    "            self.basedir = './firebase-users-dumps/'\n",
    "        \n",
    "        if not isdir(self.basedir):\n",
    "            makedirs(self.basedir, exist_ok=True)\n",
    "\n",
    "    def dump_db(self):\n",
    "        try:\n",
    "            filename = database.get_version() + '-users-' + datetime.utcnow().isoformat()\n",
    "            path = self.basedir + filename + self.gz_postfix\n",
    "\n",
    "            with GzipFile(path, 'w') as fout:\n",
    "                fout.write(json.dumps(self.db.users_db).encode('utf-8'))\n",
    "\n",
    "            print(f\"Dump successfully written. File name: {path}\")\n",
    "        except Exception as exception:\n",
    "            print('Error occured.', exception)\n",
    "\n",
    "    def list_backups(self):\n",
    "        if not IS_IN_COLAB:\n",
    "            print(f\"Download needed backups manually from Google Drive to '{self.basedir}' directory. Showing what we have locally:\")\n",
    "\n",
    "        return sorted([file for file in listdir(self.basedir) if file.endswith(self.gz_postfix)])\n",
    "\n",
    "    def show_snapshot(self, snapshot_name):\n",
    "         with GzipFile(self.basedir + snapshot_name, 'r') as fin:\n",
    "            print(json.loads(fin.read().decode('utf-8')))\n",
    "\n",
    "    def restore_db(self, backup_name):\n",
    "        try:\n",
    "            with GzipFile(self.basedir + backup_name, 'r') as fin:\n",
    "                data = json.loads(fin.read().decode('utf-8'))\n",
    "                version = backup_name[:2]\n",
    "                snapshot_name = backup_name[:-len(self.gz_postfix)]\n",
    "\n",
    "                print(f'Are you sure you want to use {snapshot_name} snapshot? (y/n)')\n",
    "                answer = input()\n",
    "\n",
    "                if answer == 'y':\n",
    "                    db.reference('version').set(version)\n",
    "                    db.reference('users').set(data)\n",
    "                    print(f'Database is using the {snapshot_name} snapshot')\n",
    "                else:\n",
    "                    print('Database is using the same snapshot')\n",
    "\n",
    "        except Exception as exception:\n",
    "            print(f'Error happend. {exception}')"
   ]
  },
  {
   "cell_type": "code",
   "execution_count": 18,
   "metadata": {
    "colab": {},
    "colab_type": "code",
    "id": "FZLnuxkE9bbk"
   },
   "outputs": [],
   "source": [
    "backuper = DatabaseBackuper(database)"
   ]
  },
  {
   "cell_type": "code",
   "execution_count": 19,
   "metadata": {
    "colab": {
     "base_uri": "https://localhost:8080/",
     "height": 34
    },
    "colab_type": "code",
    "executionInfo": {
     "elapsed": 7877,
     "status": "ok",
     "timestamp": 1588599967770,
     "user": {
      "displayName": "Maxim Shmakov",
      "photoUrl": "",
      "userId": "01063306844026308631"
     },
     "user_tz": -300
    },
    "id": "EMCnFjZqB1jE",
    "outputId": "a290a238-c784-40c1-80d8-63117ab12a97"
   },
   "outputs": [
    {
     "name": "stdout",
     "output_type": "stream",
     "text": [
      "Dump successfully written. File name: ./firebase-users-dumps/v3-users-2020-05-06T19:09:46.748185.json.gz\n"
     ]
    }
   ],
   "source": [
    "backuper.dump_db()"
   ]
  },
  {
   "cell_type": "code",
   "execution_count": 20,
   "metadata": {
    "colab": {
     "base_uri": "https://localhost:8080/",
     "height": 357
    },
    "colab_type": "code",
    "executionInfo": {
     "elapsed": 7868,
     "status": "ok",
     "timestamp": 1588599967770,
     "user": {
      "displayName": "Maxim Shmakov",
      "photoUrl": "",
      "userId": "01063306844026308631"
     },
     "user_tz": -300
    },
    "id": "FAC_Wtk1-Wes",
    "outputId": "ad77ed44-a6ac-478a-d46f-3e3b425c1ac5"
   },
   "outputs": [
    {
     "name": "stdout",
     "output_type": "stream",
     "text": [
      "Download needed backups manually from Google Drive to './firebase-users-dumps/' directory. Showing what we have locally:\n"
     ]
    },
    {
     "data": {
      "text/html": [
       "<div>\n",
       "<style scoped>\n",
       "    .dataframe tbody tr th:only-of-type {\n",
       "        vertical-align: middle;\n",
       "    }\n",
       "\n",
       "    .dataframe tbody tr th {\n",
       "        vertical-align: top;\n",
       "    }\n",
       "\n",
       "    .dataframe thead th {\n",
       "        text-align: right;\n",
       "    }\n",
       "</style>\n",
       "<table border=\"1\" class=\"dataframe\">\n",
       "  <thead>\n",
       "    <tr style=\"text-align: right;\">\n",
       "      <th></th>\n",
       "      <th>Backup name</th>\n",
       "    </tr>\n",
       "  </thead>\n",
       "  <tbody>\n",
       "    <tr>\n",
       "      <th>0</th>\n",
       "      <td>v3-users-2020-05-06T17:46:26.475439.json.gz</td>\n",
       "    </tr>\n",
       "    <tr>\n",
       "      <th>1</th>\n",
       "      <td>v3-users-2020-05-06T17:46:36.372548.json.gz</td>\n",
       "    </tr>\n",
       "    <tr>\n",
       "      <th>2</th>\n",
       "      <td>v3-users-2020-05-06T17:47:40.710209.json.gz</td>\n",
       "    </tr>\n",
       "    <tr>\n",
       "      <th>3</th>\n",
       "      <td>v3-users-2020-05-06T17:53:00.305518.json.gz</td>\n",
       "    </tr>\n",
       "    <tr>\n",
       "      <th>4</th>\n",
       "      <td>v3-users-2020-05-06T18:03:25.320910.json.gz</td>\n",
       "    </tr>\n",
       "    <tr>\n",
       "      <th>5</th>\n",
       "      <td>v3-users-2020-05-06T18:23:32.655067.json.gz</td>\n",
       "    </tr>\n",
       "    <tr>\n",
       "      <th>6</th>\n",
       "      <td>v3-users-2020-05-06T18:34:51.743059.json.gz</td>\n",
       "    </tr>\n",
       "    <tr>\n",
       "      <th>7</th>\n",
       "      <td>v3-users-2020-05-06T18:45:49.508998.json.gz</td>\n",
       "    </tr>\n",
       "    <tr>\n",
       "      <th>8</th>\n",
       "      <td>v3-users-2020-05-06T18:53:57.011993.json.gz</td>\n",
       "    </tr>\n",
       "    <tr>\n",
       "      <th>9</th>\n",
       "      <td>v3-users-2020-05-06T18:58:58.366461.json.gz</td>\n",
       "    </tr>\n",
       "    <tr>\n",
       "      <th>10</th>\n",
       "      <td>v3-users-2020-05-06T19:00:00.512732.json.gz</td>\n",
       "    </tr>\n",
       "    <tr>\n",
       "      <th>11</th>\n",
       "      <td>v3-users-2020-05-06T19:06:49.303913.json.gz</td>\n",
       "    </tr>\n",
       "    <tr>\n",
       "      <th>12</th>\n",
       "      <td>v3-users-2020-05-06T19:07:49.455345.json.gz</td>\n",
       "    </tr>\n",
       "    <tr>\n",
       "      <th>13</th>\n",
       "      <td>v3-users-2020-05-06T19:09:46.748185.json.gz</td>\n",
       "    </tr>\n",
       "  </tbody>\n",
       "</table>\n",
       "</div>"
      ],
      "text/plain": [
       "                                    Backup name\n",
       "0   v3-users-2020-05-06T17:46:26.475439.json.gz\n",
       "1   v3-users-2020-05-06T17:46:36.372548.json.gz\n",
       "2   v3-users-2020-05-06T17:47:40.710209.json.gz\n",
       "3   v3-users-2020-05-06T17:53:00.305518.json.gz\n",
       "4   v3-users-2020-05-06T18:03:25.320910.json.gz\n",
       "5   v3-users-2020-05-06T18:23:32.655067.json.gz\n",
       "6   v3-users-2020-05-06T18:34:51.743059.json.gz\n",
       "7   v3-users-2020-05-06T18:45:49.508998.json.gz\n",
       "8   v3-users-2020-05-06T18:53:57.011993.json.gz\n",
       "9   v3-users-2020-05-06T18:58:58.366461.json.gz\n",
       "10  v3-users-2020-05-06T19:00:00.512732.json.gz\n",
       "11  v3-users-2020-05-06T19:06:49.303913.json.gz\n",
       "12  v3-users-2020-05-06T19:07:49.455345.json.gz\n",
       "13  v3-users-2020-05-06T19:09:46.748185.json.gz"
      ]
     },
     "execution_count": 20,
     "metadata": {},
     "output_type": "execute_result"
    }
   ],
   "source": [
    "backups = backuper.list_backups()\n",
    "DataFrame(backups, columns=['Backup name'])"
   ]
  },
  {
   "cell_type": "code",
   "execution_count": 21,
   "metadata": {
    "colab": {},
    "colab_type": "code",
    "id": "WvHEGJQjSVea"
   },
   "outputs": [],
   "source": [
    "# Or you can write something specific\n",
    "backup_name = backups[-1]\n",
    "\n",
    "# backuper.show_snapshot(backup_name)"
   ]
  },
  {
   "cell_type": "code",
   "execution_count": 22,
   "metadata": {
    "colab": {
     "base_uri": "https://localhost:8080/",
     "height": 68
    },
    "colab_type": "code",
    "executionInfo": {
     "elapsed": 14616,
     "status": "ok",
     "timestamp": 1588599974540,
     "user": {
      "displayName": "Maxim Shmakov",
      "photoUrl": "",
      "userId": "01063306844026308631"
     },
     "user_tz": -300
    },
    "id": "edTarK762s0_",
    "outputId": "f729d030-6222-435a-feeb-9c7ad8ed5b15"
   },
   "outputs": [
    {
     "name": "stdout",
     "output_type": "stream",
     "text": [
      "Are you sure you want to use v3-users-2020-05-06T19:09:46.748185 snapshot? (y/n)\n"
     ]
    },
    {
     "name": "stdin",
     "output_type": "stream",
     "text": [
      " n\n"
     ]
    },
    {
     "name": "stdout",
     "output_type": "stream",
     "text": [
      "Database is using the same snapshot\n"
     ]
    }
   ],
   "source": [
    "backuper.restore_db(backup_name)"
   ]
  },
  {
   "cell_type": "markdown",
   "metadata": {
    "colab_type": "text",
    "id": "bmz6gGMe2s0D"
   },
   "source": [
    "## Database analytics"
   ]
  },
  {
   "cell_type": "code",
   "execution_count": 23,
   "metadata": {
    "colab": {},
    "colab_type": "code",
    "id": "7hm5c7VH2s0E"
   },
   "outputs": [],
   "source": [
    "import matplotlib.pyplot as plt\n",
    "\n",
    "from numpy import arange\n",
    "from numbers import Number\n",
    "\n",
    "from functools import reduce\n",
    "from operator import itemgetter"
   ]
  },
  {
   "cell_type": "code",
   "execution_count": 24,
   "metadata": {
    "colab": {},
    "colab_type": "code",
    "id": "5OqWBc6o2s0K"
   },
   "outputs": [],
   "source": [
    "def users_stats(db_instance, show_chat_ids=False):\n",
    "    def remove_without_data(lst, user):\n",
    "        if 'lastAccess' in user:\n",
    "            lst.append(user)\n",
    "        return lst\n",
    "\n",
    "    objects = ('Have', 'Don\\'t have')\n",
    "    y_pos = arange(len(objects))\n",
    "\n",
    "    users = db_instance.get_users_as_list()\n",
    "    with_data = reduce(remove_without_data, users, [])\n",
    "\n",
    "    x_pos = [\n",
    "        len(with_data),\n",
    "        len(users) - len(with_data)\n",
    "    ]\n",
    "\n",
    "    plt.bar(y_pos[0], x_pos[0], color='blue', align='center')\n",
    "    plt.bar(y_pos[1], x_pos[1], color='red', align='center')\n",
    "\n",
    "    plt.ylabel('Number of users')\n",
    "    plt.xticks(y_pos, objects)\n",
    "    plt.yticks(x_pos)\n",
    "    plt.title('Number of users that have personal info')\n",
    "\n",
    "    plt.show()\n",
    "\n",
    "    chat_ids_with_data = list(map(\n",
    "        lambda user: f\"{user['id']} ({user['username']})\" if 'username' in user else f\"{user['id']} ({user['first_name']})\",\n",
    "        sorted(with_data, key=itemgetter('id'))))\n",
    "\n",
    "    print(f\"Total amount of users: {len(users)}\")\n",
    "    print(f\"Percentage of users with personal info: {len(with_data) / len(users) * 100} %\")\n",
    "\n",
    "    if len(chat_ids_with_data) > 0 and show_chat_ids:\n",
    "        print(f\"Chat_ids with personal info: {', '.join(chat_ids_with_data)}\")"
   ]
  },
  {
   "cell_type": "code",
   "execution_count": 25,
   "metadata": {
    "colab": {
     "base_uri": "https://localhost:8080/",
     "height": 352
    },
    "colab_type": "code",
    "executionInfo": {
     "elapsed": 14593,
     "status": "ok",
     "timestamp": 1588599974542,
     "user": {
      "displayName": "Maxim Shmakov",
      "photoUrl": "",
      "userId": "01063306844026308631"
     },
     "user_tz": -300
    },
    "id": "wwmw1n8x2s0N",
    "outputId": "87eb98b9-5b7e-483a-bdb8-7ee57090befe",
    "scrolled": true
   },
   "outputs": [
    {
     "data": {
      "image/png": "[encoded data removed]",
      "text/plain": [
       "<Figure size 432x288 with 1 Axes>"
      ]
     },
     "metadata": {
      "needs_background": "light"
     },
     "output_type": "display_data"
    },
    {
     "name": "stdout",
     "output_type": "stream",
     "text": [
      "Total amount of users: 1033\n",
      "Percentage of users with personal info: 1.6456921587608906 %\n",
      "Chat_ids with personal info: 80713059 (Barin_Ildar), 94552162 (egorka1397), 108431546 (mvshmakov), 120248031 (le_bourbier), 128855625 (JustDoItTim), 175030142 (N), 183082518 (DLDLU), 257765200 (xdownshiftx), 259600937 (pvsemk), 313741256 (Alexander), 335299756 (vvmosmvoretskiy), 339186680 (olpyhn), 339755055 (AHTOH4EK), 372861455 (Sde_or), 440708994 (spacedog46471), 501641067 (NN_Nikita_Nikitov), 1151088630 (Lizzztvv)\n"
     ]
    }
   ],
   "source": [
    "users_stats(database, True)"
   ]
  },
  {
   "cell_type": "markdown",
   "metadata": {
    "colab_type": "text",
    "id": "fCdXp4dxcrOE"
   },
   "source": [
    "## Database migrations"
   ]
  },
  {
   "cell_type": "code",
   "execution_count": 26,
   "metadata": {
    "colab": {},
    "colab_type": "code",
    "id": "5nfnK9lXsDjn"
   },
   "outputs": [],
   "source": [
    "import json\n",
    "from gzip import GzipFile"
   ]
  },
  {
   "cell_type": "code",
   "execution_count": 27,
   "metadata": {
    "colab": {},
    "colab_type": "code",
    "id": "9nCJFHGxcz9P"
   },
   "outputs": [],
   "source": [
    "def migrate_v1_v2(database):\n",
    "    new_users = {}\n",
    "\n",
    "    for (id, user) in database.users_db.items():\n",
    "        if 'platoon' in user:\n",
    "            del user['platoon']\n",
    "        if 'platoonType' in user:\n",
    "            del user['platoonType']\n",
    "        new_users[id] = user\n",
    "\n",
    "    print(f'Are you sure you want to migrate from v1 to v2? (y/n)')\n",
    "    answer = input()\n",
    "\n",
    "    if answer == 'y':\n",
    "        db.reference('users').set(new_users)\n",
    "        db.reference('version').set('v2')\n",
    "        print('Database merged data and is using v3 schema')\n",
    "    else:\n",
    "        print('Database is using the same version')"
   ]
  },
  {
   "cell_type": "code",
   "execution_count": 28,
   "metadata": {
    "colab": {},
    "colab_type": "code",
    "id": "TIthBU_Lesuj"
   },
   "outputs": [],
   "source": [
    "def migrate_v2_v3(database):\n",
    "    with GzipFile(backuper.basedir + 'users-7.04.20-21:56:47.json.gz', 'r') as fin:\n",
    "        old_data = json.loads(fin.read().decode('utf-8'))['users']\n",
    "\n",
    "    # Old (v1) and new (v2) unified data processing\n",
    "    new_users = {}\n",
    "    for (id, user) in {**old_data,\n",
    "                       **database.users_db}.items():\n",
    "        new_users[id] = {}\n",
    "\n",
    "        # Related to new data\n",
    "        if 'debug' in user:\n",
    "            new_users[id] = {\n",
    "                **user['debug']['user'],\n",
    "                'lastAccess': user['debug']['lastAccess']}\n",
    "        if 'defaultPlatoon' in user:\n",
    "            new_users[id].update({'defaultPlatoon': user['defaultPlatoon']})\n",
    "        new_users[id].update({'id': int(id)})\n",
    "\n",
    "    print(f'Are you sure you want to migrate from v2 to v3? (y/n)')\n",
    "    answer = input()\n",
    "\n",
    "    if answer == 'y':\n",
    "        db.reference('users').set(new_users)\n",
    "        db.reference('version').set('v3')\n",
    "        print('Database merged data and is using v3 schema')\n",
    "    else:\n",
    "        print('Database is using the same version')"
   ]
  },
  {
   "cell_type": "code",
   "execution_count": 29,
   "metadata": {
    "colab": {},
    "colab_type": "code",
    "id": "08spWyATezwk"
   },
   "outputs": [],
   "source": [
    "# migrate_v1_v2(database)\n",
    "# migrate_v2_v3(database)"
   ]
  },
  {
   "cell_type": "markdown",
   "metadata": {
    "colab_type": "text",
    "id": "-b5mOoEu2s0P"
   },
   "source": [
    "## Sending messages"
   ]
  },
  {
   "cell_type": "code",
   "execution_count": 30,
   "metadata": {
    "colab": {},
    "colab_type": "code",
    "id": "jjmurXTd2s0Q"
   },
   "outputs": [],
   "source": [
    "import json\n",
    "import asyncio\n",
    "\n",
    "from aiohttp import ClientSession\n",
    "from tqdm.notebook import tqdm"
   ]
  },
  {
   "cell_type": "code",
   "execution_count": 31,
   "metadata": {
    "colab": {},
    "colab_type": "code",
    "id": "RgnMbEUD2s0V"
   },
   "outputs": [],
   "source": [
    "# Fix for ipython event loop\n",
    "import nest_asyncio\n",
    "nest_asyncio.apply()"
   ]
  },
  {
   "cell_type": "code",
   "execution_count": 32,
   "metadata": {
    "colab": {},
    "colab_type": "code",
    "id": "n5F2DGQ52s0a"
   },
   "outputs": [],
   "source": [
    "class MessageSender():\n",
    "    headers = {'content-type': 'application/json'}\n",
    "    stats = {}\n",
    "\n",
    "    def __init__(self, bot_token=ENV[\"BOT_TOKEN\"]):\n",
    "        self.url = f'https://api.telegram.org/bot{bot_token}/sendMessage'\n",
    "\n",
    "    def show_stats(self):\n",
    "        response = self.stats['response']\n",
    "        if (response['ok'] != True):\n",
    "            print(f\"{response['description']}. Try again.\")\n",
    "        else:\n",
    "            chat = response['result']['chat']\n",
    "            if 'username' in chat:\n",
    "                print(f\"Message \\'{response['result']['text']}\\' sent to {chat['username']} ({chat['first_name']})\")\n",
    "            else:\n",
    "                print(f\"Message \\'{response['result']['text']}\\' sent to {chat['first_name']}\")\n",
    "            print(f\"At: {self.stats['date']}, Chat ID: {chat['id']}\")\n",
    "\n",
    "    def send_msg_to_chat(self, chat_id, text):\n",
    "        loop = asyncio.get_event_loop()\n",
    "\n",
    "        async def send_msg_to_chat_async():\n",
    "            async with ClientSession() as session:\n",
    "                self.stats = await self.send_msg_to_chat_async(session, chat_id, text)\n",
    "\n",
    "        loop.run_until_complete(send_msg_to_chat_async())\n",
    "\n",
    "    async def send_msg_to_chat_async(self, session, chat_id, text):\n",
    "        payload = json.dumps({\n",
    "            'chat_id': chat_id,\n",
    "            'text': text\n",
    "        })\n",
    "\n",
    "        async with session.post(self.url, data=payload, headers=self.headers) as response:\n",
    "            text = await response.text()\n",
    "\n",
    "            return {\n",
    "                'date': response.headers.get(\"DATE\"),\n",
    "                'response': json.loads(text),\n",
    "            }"
   ]
  },
  {
   "cell_type": "code",
   "execution_count": 33,
   "metadata": {
    "colab": {},
    "colab_type": "code",
    "id": "kTCdPrmh2s0d"
   },
   "outputs": [],
   "source": [
    "MAX_PARALLEL = 500\n",
    "\n",
    "class MultipleMessagesSender(MessageSender):\n",
    "    stats = []\n",
    "\n",
    "    def __init__(self, db_instance, bot_token=ENV[\"BOT_TOKEN\"]):\n",
    "        super().__init__(bot_token)\n",
    "        self.db = db_instance\n",
    "    \n",
    "    def __stat_count_with_error(self, counter, user):\n",
    "        if user['response']['ok'] == True:\n",
    "            return counter\n",
    "        return counter + 1\n",
    "\n",
    "    def show_errors_rate(self):\n",
    "        objects = ('Succeded', 'Errored')\n",
    "        y_pos = arange(len(objects))\n",
    "\n",
    "        with_error = reduce(self.__stat_count_with_error, self.stats, 0)\n",
    "        print(f\"Successful messages: {(1 - with_error / len(self.stats)) * 100} %\")\n",
    "\n",
    "        x_pos = [\n",
    "            len(self.stats) - with_error,\n",
    "            with_error,\n",
    "        ]\n",
    "\n",
    "        plt.bar(y_pos[0], x_pos[0], color='blue', align='center')\n",
    "        plt.bar(y_pos[1], x_pos[1], color='red', align='center')\n",
    "\n",
    "        plt.ylabel('Number of requests')\n",
    "        plt.yticks(x_pos)\n",
    "        plt.xticks(y_pos, objects)\n",
    "        plt.title('Number of succesful requests and errors')\n",
    "\n",
    "        plt.show()\n",
    "\n",
    "    def show_errors(self):\n",
    "        if reduce(self.__stat_count_with_error, self.stats, 0) == 0:\n",
    "            print('No errors!')\n",
    "        else:\n",
    "            def make_errors_map(errs, stat):\n",
    "                if 'response' not in stat or 'description' not in stat['response']:\n",
    "                    return errs\n",
    "                description = stat['response']['description']\n",
    "                if description in errs:\n",
    "                    errs[description] += 1\n",
    "                else:\n",
    "                    errs[description] = 1\n",
    "                return errs\n",
    "\n",
    "            errors = reduce(make_errors_map, self.stats, {})\n",
    "\n",
    "            x_pos = list(errors.values())\n",
    "            y_pos = list(errors.keys())\n",
    "            plt.bar(y_pos, x_pos, color='red', align='center')\n",
    "\n",
    "            plt.ylabel('Number of errors')\n",
    "            plt.yticks(x_pos)\n",
    "            plt.xticks(y_pos, rotation=45)\n",
    "            plt.title('Errors by description')\n",
    "\n",
    "            plt.show()\n",
    "            \n",
    "    def show_problem_ids(self):\n",
    "        if reduce(self.__stat_count_with_error, self.stats, 0) == 0:\n",
    "            pass\n",
    "        else:\n",
    "            def get_problem_ids(ids, stat):\n",
    "                if 'description' not in stat['response']:\n",
    "                    return ids\n",
    "\n",
    "                chat_id = stat['chat_id']\n",
    "                if chat_id in ids:\n",
    "                    return ids\n",
    "                else:\n",
    "                    ids.append(chat_id)\n",
    "                    return ids\n",
    "\n",
    "            failed_chat_ids = map(str, sorted(reduce(get_problem_ids, self.stats, [])))\n",
    "            print(f\"Problematic chat_ids: {', '.join(failed_chat_ids)}\")\n",
    "\n",
    "    def show_stats(self, show_problem_ids=False):\n",
    "        self.show_errors_rate()\n",
    "        self.show_errors()\n",
    "\n",
    "        if show_problem_ids:\n",
    "            self.show_problem_ids()\n",
    "\n",
    "    def send_msg_to_everyone(self, text, parallel=MAX_PARALLEL):\n",
    "        loop = asyncio.get_event_loop()\n",
    "        future = asyncio.ensure_future(self.send_msg_to_everyone_async(text, parallel))\n",
    "        loop.run_until_complete(future)\n",
    "\n",
    "    async def bound_requests(self, session, semaphore, chat_id, text):\n",
    "        # Getter function with semaphore.\n",
    "        async with semaphore:\n",
    "            return await self.send_msg_to_chat_async(session, chat_id, text)\n",
    "\n",
    "    async def send_msg_to_everyone_async(self, text, debug=False, parallel=MAX_PARALLEL):\n",
    "        tasks = []\n",
    "        chat_ids = self.db.get_all_chat_ids(debug)\n",
    "        semaphore = asyncio.Semaphore(parallel)\n",
    "\n",
    "        # Create client session that will ensure we dont open new connection per each request.\n",
    "        async with ClientSession() as session:\n",
    "            for chat_id in chat_ids:\n",
    "                task = asyncio.ensure_future(\n",
    "                    self.bound_requests(session, semaphore, chat_id, text))\n",
    "                tasks.append(task)\n",
    "\n",
    "            for task in tqdm(asyncio.as_completed(tasks), total=len(tasks)):\n",
    "                await task\n",
    "\n",
    "            results = await asyncio.gather(*tasks)\n",
    "            \n",
    "            def merge_stat_with_chat_id(accumulator, stat):\n",
    "                stat[0]['chat_id'] = stat[1]\n",
    "                accumulator.append(stat[0])\n",
    "                return accumulator\n",
    "                \n",
    "            self.stats = list(reduce(merge_stat_with_chat_id, zip(results, chat_ids), []))"
   ]
  },
  {
   "cell_type": "code",
   "execution_count": 34,
   "metadata": {
    "colab": {},
    "colab_type": "code",
    "id": "Jsr4i6iR2s0k"
   },
   "outputs": [],
   "source": [
    "text = 'Привет, это новый бот! Вы можете выствить в настройках свой взвод, чтобы получать расписание в один клик!'\n",
    "chat_id = database.DEBUG_USER_IDS[0]"
   ]
  },
  {
   "cell_type": "code",
   "execution_count": 35,
   "metadata": {
    "colab": {
     "base_uri": "https://localhost:8080/",
     "height": 68
    },
    "colab_type": "code",
    "executionInfo": {
     "elapsed": 15558,
     "status": "ok",
     "timestamp": 1588599975592,
     "user": {
      "displayName": "Maxim Shmakov",
      "photoUrl": "",
      "userId": "01063306844026308631"
     },
     "user_tz": -300
    },
    "id": "SkZftkes2s0p",
    "outputId": "bddaedde-993e-4a1e-fcaa-39d1aff2242e",
    "scrolled": true
   },
   "outputs": [
    {
     "name": "stdout",
     "output_type": "stream",
     "text": [
      "Message 'Привет, это новый бот! Вы можете выствить в настройках свой взвод, чтобы получать расписание в один клик!' sent to mvshmakov (Maxim)\n",
      "At: Wed, 06 May 2020 19:09:52 GMT, Chat ID: 108431546\n"
     ]
    }
   ],
   "source": [
    "sender = MessageSender()\n",
    "\n",
    "if ENVIRONMENT == 'prod':\n",
    "    print(\"Send a message? (y/n)\")\n",
    "    answer = input()\n",
    "    if answer == 'y':\n",
    "        sender.send_msg_to_chat(chat_id, text)\n",
    "        sender.show_stats()\n",
    "    else:\n",
    "        print(\"Message is not sent\")\n",
    "else:\n",
    "    sender.send_msg_to_chat(chat_id, text)\n",
    "    sender.show_stats()"
   ]
  },
  {
   "cell_type": "code",
   "execution_count": 36,
   "metadata": {
    "colab": {
     "base_uri": "https://localhost:8080/",
     "height": 781,
     "referenced_widgets": [
      "f0d80b9efd264917abdb68e6baec0654",
      "d925afec675e4725bfef51c780e5ffa7",
      "f3f15a2c4bcc4359b259c080193c9f73",
      "b5eb59019f3f40ab8d37077713397248",
      "5185f1b6e78040d593dadf7424dea901",
      "cea1d81457e94a22a89c14f0c13379a1",
      "d1d284d2543647bfa608bae4fb966178",
      "b432bba3dcb14433a627735ea251f3cd"
     ]
    },
    "colab_type": "code",
    "executionInfo": {
     "elapsed": 15550,
     "status": "ok",
     "timestamp": 1588599975593,
     "user": {
      "displayName": "Maxim Shmakov",
      "photoUrl": "",
      "userId": "01063306844026308631"
     },
     "user_tz": -300
    },
    "id": "pS642fSz2s0v",
    "outputId": "d546d1ac-e9c4-4ad7-878a-dfc7fd15f38c"
   },
   "outputs": [
    {
     "data": {
      "application/vnd.jupyter.widget-view+json": {
       "model_id": "b538cdf2dc39415ebba5d1998b892373",
       "version_major": 2,
       "version_minor": 0
      },
      "text/plain": [
       "HBox(children=(FloatProgress(value=0.0, max=6.0), HTML(value='')))"
      ]
     },
     "metadata": {},
     "output_type": "display_data"
    },
    {
     "name": "stdout",
     "output_type": "stream",
     "text": [
      "\n",
      "Successful messages: 16.666666666666664 %\n"
     ]
    },
    {
     "data": {
      "image/png": "[encoded data removed]",
      "text/plain": [
       "<Figure size 432x288 with 1 Axes>"
      ]
     },
     "metadata": {
      "needs_background": "light"
     },
     "output_type": "display_data"
    },
    {
     "data": {
      "image/png": "[encoded data removed]",
      "text/plain": [
       "<Figure size 432x288 with 1 Axes>"
      ]
     },
     "metadata": {
      "needs_background": "light"
     },
     "output_type": "display_data"
    },
    {
     "name": "stdout",
     "output_type": "stream",
     "text": [
      "Problematic chat_ids: 565124, 733019, 947413, 1323215, 120248031\n"
     ]
    }
   ],
   "source": [
    "multiple_sender = MultipleMessagesSender(database)\n",
    "\n",
    "if ENVIRONMENT == 'prod':\n",
    "    print(\"Send messages? (y/n)\")\n",
    "    answer = input()\n",
    "    if answer == 'y':\n",
    "        multiple_sender.send_msg_to_everyone(text)\n",
    "        multiple_sender.show_stats()\n",
    "    else:\n",
    "        print(\"Messages are not sent\")\n",
    "else:\n",
    "    multiple_sender.send_msg_to_everyone(text, True)\n",
    "    multiple_sender.show_stats(True)"
   ]
  }
 ],
 "metadata": {
  "colab": {
   "collapsed_sections": [],
   "name": "Copy of admin-panel.ipynb",
   "provenance": [
    {
     "file_id": "https://github.com/mvshmakov/hse-military-bot/blob/master/admin/admin-panel.ipynb",
     "timestamp": 1588440543397
    }
   ],
   "toc_visible": true
  },
  "kernelspec": {
   "display_name": "Python 3",
   "language": "python",
   "name": "python3"
  },
  "language_info": {
   "codemirror_mode": {
    "name": "ipython",
    "version": 3
   },
   "file_extension": ".py",
   "mimetype": "text/x-python",
   "name": "python",
   "nbconvert_exporter": "python",
   "pygments_lexer": "ipython3",
   "version": "3.7.7"
  },
  "widgets": {
   "application/vnd.jupyter.widget-state+json": {
    "5185f1b6e78040d593dadf7424dea901": {
     "model_module": "@jupyter-widgets/controls",
     "model_name": "ProgressStyleModel",
     "state": {
      "_model_module": "@jupyter-widgets/controls",
      "_model_module_version": "1.5.0",
      "_model_name": "ProgressStyleModel",
      "_view_count": null,
      "_view_module": "@jupyter-widgets/base",
      "_view_module_version": "1.2.0",
      "_view_name": "StyleView",
      "bar_color": null,
      "description_width": "initial"
     }
    },
    "b432bba3dcb14433a627735ea251f3cd": {
     "model_module": "@jupyter-widgets/base",
     "model_name": "LayoutModel",
     "state": {
      "_model_module": "@jupyter-widgets/base",
      "_model_module_version": "1.2.0",
      "_model_name": "LayoutModel",
      "_view_count": null,
      "_view_module": "@jupyter-widgets/base",
      "_view_module_version": "1.2.0",
      "_view_name": "LayoutView",
      "align_content": null,
      "align_items": null,
      "align_self": null,
      "border": null,
      "bottom": null,
      "display": null,
      "flex": null,
      "flex_flow": null,
      "grid_area": null,
      "grid_auto_columns": null,
      "grid_auto_flow": null,
      "grid_auto_rows": null,
      "grid_column": null,
      "grid_gap": null,
      "grid_row": null,
      "grid_template_areas": null,
      "grid_template_columns": null,
      "grid_template_rows": null,
      "height": null,
      "justify_content": null,
      "justify_items": null,
      "left": null,
      "margin": null,
      "max_height": null,
      "max_width": null,
      "min_height": null,
      "min_width": null,
      "object_fit": null,
      "object_position": null,
      "order": null,
      "overflow": null,
      "overflow_x": null,
      "overflow_y": null,
      "padding": null,
      "right": null,
      "top": null,
      "visibility": null,
      "width": null
     }
    },
    "b5eb59019f3f40ab8d37077713397248": {
     "model_module": "@jupyter-widgets/controls",
     "model_name": "HTMLModel",
     "state": {
      "_dom_classes": [],
      "_model_module": "@jupyter-widgets/controls",
      "_model_module_version": "1.5.0",
      "_model_name": "HTMLModel",
      "_view_count": null,
      "_view_module": "@jupyter-widgets/controls",
      "_view_module_version": "1.5.0",
      "_view_name": "HTMLView",
      "description": "",
      "description_tooltip": null,
      "layout": "IPY_MODEL_b432bba3dcb14433a627735ea251f3cd",
      "placeholder": "​",
      "style": "IPY_MODEL_d1d284d2543647bfa608bae4fb966178",
      "value": " 6/6 [00:00&lt;00:00, 15.23it/s]"
     }
    },
    "cea1d81457e94a22a89c14f0c13379a1": {
     "model_module": "@jupyter-widgets/base",
     "model_name": "LayoutModel",
     "state": {
      "_model_module": "@jupyter-widgets/base",
      "_model_module_version": "1.2.0",
      "_model_name": "LayoutModel",
      "_view_count": null,
      "_view_module": "@jupyter-widgets/base",
      "_view_module_version": "1.2.0",
      "_view_name": "LayoutView",
      "align_content": null,
      "align_items": null,
      "align_self": null,
      "border": null,
      "bottom": null,
      "display": null,
      "flex": null,
      "flex_flow": null,
      "grid_area": null,
      "grid_auto_columns": null,
      "grid_auto_flow": null,
      "grid_auto_rows": null,
      "grid_column": null,
      "grid_gap": null,
      "grid_row": null,
      "grid_template_areas": null,
      "grid_template_columns": null,
      "grid_template_rows": null,
      "height": null,
      "justify_content": null,
      "justify_items": null,
      "left": null,
      "margin": null,
      "max_height": null,
      "max_width": null,
      "min_height": null,
      "min_width": null,
      "object_fit": null,
      "object_position": null,
      "order": null,
      "overflow": null,
      "overflow_x": null,
      "overflow_y": null,
      "padding": null,
      "right": null,
      "top": null,
      "visibility": null,
      "width": null
     }
    },
    "d1d284d2543647bfa608bae4fb966178": {
     "model_module": "@jupyter-widgets/controls",
     "model_name": "DescriptionStyleModel",
     "state": {
      "_model_module": "@jupyter-widgets/controls",
      "_model_module_version": "1.5.0",
      "_model_name": "DescriptionStyleModel",
      "_view_count": null,
      "_view_module": "@jupyter-widgets/base",
      "_view_module_version": "1.2.0",
      "_view_name": "StyleView",
      "description_width": ""
     }
    },
    "d925afec675e4725bfef51c780e5ffa7": {
     "model_module": "@jupyter-widgets/base",
     "model_name": "LayoutModel",
     "state": {
      "_model_module": "@jupyter-widgets/base",
      "_model_module_version": "1.2.0",
      "_model_name": "LayoutModel",
      "_view_count": null,
      "_view_module": "@jupyter-widgets/base",
      "_view_module_version": "1.2.0",
      "_view_name": "LayoutView",
      "align_content": null,
      "align_items": null,
      "align_self": null,
      "border": null,
      "bottom": null,
      "display": null,
      "flex": null,
      "flex_flow": null,
      "grid_area": null,
      "grid_auto_columns": null,
      "grid_auto_flow": null,
      "grid_auto_rows": null,
      "grid_column": null,
      "grid_gap": null,
      "grid_row": null,
      "grid_template_areas": null,
      "grid_template_columns": null,
      "grid_template_rows": null,
      "height": null,
      "justify_content": null,
      "justify_items": null,
      "left": null,
      "margin": null,
      "max_height": null,
      "max_width": null,
      "min_height": null,
      "min_width": null,
      "object_fit": null,
      "object_position": null,
      "order": null,
      "overflow": null,
      "overflow_x": null,
      "overflow_y": null,
      "padding": null,
      "right": null,
      "top": null,
      "visibility": null,
      "width": null
     }
    },
    "f0d80b9efd264917abdb68e6baec0654": {
     "model_module": "@jupyter-widgets/controls",
     "model_name": "HBoxModel",
     "state": {
      "_dom_classes": [],
      "_model_module": "@jupyter-widgets/controls",
      "_model_module_version": "1.5.0",
      "_model_name": "HBoxModel",
      "_view_count": null,
      "_view_module": "@jupyter-widgets/controls",
      "_view_module_version": "1.5.0",
      "_view_name": "HBoxView",
      "box_style": "",
      "children": [
       "IPY_MODEL_f3f15a2c4bcc4359b259c080193c9f73",
       "IPY_MODEL_b5eb59019f3f40ab8d37077713397248"
      ],
      "layout": "IPY_MODEL_d925afec675e4725bfef51c780e5ffa7"
     }
    },
    "f3f15a2c4bcc4359b259c080193c9f73": {
     "model_module": "@jupyter-widgets/controls",
     "model_name": "FloatProgressModel",
     "state": {
      "_dom_classes": [],
      "_model_module": "@jupyter-widgets/controls",
      "_model_module_version": "1.5.0",
      "_model_name": "FloatProgressModel",
      "_view_count": null,
      "_view_module": "@jupyter-widgets/controls",
      "_view_module_version": "1.5.0",
      "_view_name": "ProgressView",
      "bar_style": "success",
      "description": "100%",
      "description_tooltip": null,
      "layout": "IPY_MODEL_cea1d81457e94a22a89c14f0c13379a1",
      "max": 6,
      "min": 0,
      "orientation": "horizontal",
      "style": "IPY_MODEL_5185f1b6e78040d593dadf7424dea901",
      "value": 6
     }
    }
   }
  }
 },
 "nbformat": 4,
 "nbformat_minor": 4
}
